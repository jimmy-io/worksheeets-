{
  "nbformat": 4,
  "nbformat_minor": 0,
  "metadata": {
    "colab": {
      "name": "Pandas_worksheet.ipynb",
      "provenance": [],
      "collapsed_sections": []
    },
    "kernelspec": {
      "name": "python3",
      "display_name": "Python 3"
    }
  },
  "cells": [
    {
      "cell_type": "code",
      "metadata": {
        "id": "Bc1XBSj5MDUh",
        "colab_type": "code",
        "colab": {}
      },
      "source": [
        "import pandas as pd"
      ],
      "execution_count": 0,
      "outputs": []
    },
    {
      "cell_type": "markdown",
      "metadata": {
        "id": "6gL4tYnL0s_Z",
        "colab_type": "text"
      },
      "source": [
        "## Syntax – Creating DataFrames"
      ]
    },
    {
      "cell_type": "code",
      "metadata": {
        "id": "uExsIkjB0ed1",
        "colab_type": "code",
        "colab": {
          "base_uri": "https://localhost:8080/",
          "height": 136
        },
        "outputId": "afeb82c3-f450-4c31-f1e0-ddca71c1d257"
      },
      "source": [
        "## Specify values for each column.\n",
        "df1 = pd.DataFrame({\"a\" : [4 ,5, 6],\n",
        "                   \"b\" : [7, 8, 9],\n",
        "                   \"c\" : [10, 11, 12]},\n",
        "                  index = [1, 2, 3])\n",
        "df1"
      ],
      "execution_count": 4,
      "outputs": [
        {
          "output_type": "execute_result",
          "data": {
            "text/html": [
              "<div>\n",
              "<style scoped>\n",
              "    .dataframe tbody tr th:only-of-type {\n",
              "        vertical-align: middle;\n",
              "    }\n",
              "\n",
              "    .dataframe tbody tr th {\n",
              "        vertical-align: top;\n",
              "    }\n",
              "\n",
              "    .dataframe thead th {\n",
              "        text-align: right;\n",
              "    }\n",
              "</style>\n",
              "<table border=\"1\" class=\"dataframe\">\n",
              "  <thead>\n",
              "    <tr style=\"text-align: right;\">\n",
              "      <th></th>\n",
              "      <th>a</th>\n",
              "      <th>b</th>\n",
              "      <th>c</th>\n",
              "    </tr>\n",
              "  </thead>\n",
              "  <tbody>\n",
              "    <tr>\n",
              "      <th>1</th>\n",
              "      <td>4</td>\n",
              "      <td>7</td>\n",
              "      <td>10</td>\n",
              "    </tr>\n",
              "    <tr>\n",
              "      <th>2</th>\n",
              "      <td>5</td>\n",
              "      <td>8</td>\n",
              "      <td>11</td>\n",
              "    </tr>\n",
              "    <tr>\n",
              "      <th>3</th>\n",
              "      <td>6</td>\n",
              "      <td>9</td>\n",
              "      <td>12</td>\n",
              "    </tr>\n",
              "  </tbody>\n",
              "</table>\n",
              "</div>"
            ],
            "text/plain": [
              "   a  b   c\n",
              "1  4  7  10\n",
              "2  5  8  11\n",
              "3  6  9  12"
            ]
          },
          "metadata": {
            "tags": []
          },
          "execution_count": 4
        }
      ]
    },
    {
      "cell_type": "code",
      "metadata": {
        "id": "jRqFq8Ty0nBD",
        "colab_type": "code",
        "colab": {
          "base_uri": "https://localhost:8080/",
          "height": 136
        },
        "outputId": "93769529-177a-41bb-ae5b-fa0ed5f1837e"
      },
      "source": [
        "## Specify values for each row.\n",
        "df2 = pd.DataFrame([[4, 7, 10],\n",
        "                    [5, 8, 11],\n",
        "                    [6, 9, 12]],\n",
        "                   index=[1, 2, 3],\n",
        "                   columns=['a', 'b', 'c'])\n",
        "\n",
        "df2"
      ],
      "execution_count": 5,
      "outputs": [
        {
          "output_type": "execute_result",
          "data": {
            "text/html": [
              "<div>\n",
              "<style scoped>\n",
              "    .dataframe tbody tr th:only-of-type {\n",
              "        vertical-align: middle;\n",
              "    }\n",
              "\n",
              "    .dataframe tbody tr th {\n",
              "        vertical-align: top;\n",
              "    }\n",
              "\n",
              "    .dataframe thead th {\n",
              "        text-align: right;\n",
              "    }\n",
              "</style>\n",
              "<table border=\"1\" class=\"dataframe\">\n",
              "  <thead>\n",
              "    <tr style=\"text-align: right;\">\n",
              "      <th></th>\n",
              "      <th>a</th>\n",
              "      <th>b</th>\n",
              "      <th>c</th>\n",
              "    </tr>\n",
              "  </thead>\n",
              "  <tbody>\n",
              "    <tr>\n",
              "      <th>1</th>\n",
              "      <td>4</td>\n",
              "      <td>7</td>\n",
              "      <td>10</td>\n",
              "    </tr>\n",
              "    <tr>\n",
              "      <th>2</th>\n",
              "      <td>5</td>\n",
              "      <td>8</td>\n",
              "      <td>11</td>\n",
              "    </tr>\n",
              "    <tr>\n",
              "      <th>3</th>\n",
              "      <td>6</td>\n",
              "      <td>9</td>\n",
              "      <td>12</td>\n",
              "    </tr>\n",
              "  </tbody>\n",
              "</table>\n",
              "</div>"
            ],
            "text/plain": [
              "   a  b   c\n",
              "1  4  7  10\n",
              "2  5  8  11\n",
              "3  6  9  12"
            ]
          },
          "metadata": {
            "tags": []
          },
          "execution_count": 5
        }
      ]
    },
    {
      "cell_type": "code",
      "metadata": {
        "id": "I7Hcm6KS09FX",
        "colab_type": "code",
        "colab": {
          "base_uri": "https://localhost:8080/",
          "height": 166
        },
        "outputId": "6a13724c-2cc3-4ea3-99e3-778ef2e0dad3"
      },
      "source": [
        "## Create DataFrame with a MultiIndex\n",
        "\n",
        "df3 = pd.DataFrame({\"a\" : [4 ,5, 6],\n",
        "                    \"b\" : [7, 8, 9],\n",
        "                    \"c\" : [10, 11, 12]},\n",
        "                   index = pd.MultiIndex.from_tuples([('d',1),('d',2),('e',2)],\n",
        "                                                     names=['n','v']))\n",
        "\n",
        "df3"
      ],
      "execution_count": 6,
      "outputs": [
        {
          "output_type": "execute_result",
          "data": {
            "text/html": [
              "<div>\n",
              "<style scoped>\n",
              "    .dataframe tbody tr th:only-of-type {\n",
              "        vertical-align: middle;\n",
              "    }\n",
              "\n",
              "    .dataframe tbody tr th {\n",
              "        vertical-align: top;\n",
              "    }\n",
              "\n",
              "    .dataframe thead th {\n",
              "        text-align: right;\n",
              "    }\n",
              "</style>\n",
              "<table border=\"1\" class=\"dataframe\">\n",
              "  <thead>\n",
              "    <tr style=\"text-align: right;\">\n",
              "      <th></th>\n",
              "      <th></th>\n",
              "      <th>a</th>\n",
              "      <th>b</th>\n",
              "      <th>c</th>\n",
              "    </tr>\n",
              "    <tr>\n",
              "      <th>n</th>\n",
              "      <th>v</th>\n",
              "      <th></th>\n",
              "      <th></th>\n",
              "      <th></th>\n",
              "    </tr>\n",
              "  </thead>\n",
              "  <tbody>\n",
              "    <tr>\n",
              "      <th rowspan=\"2\" valign=\"top\">d</th>\n",
              "      <th>1</th>\n",
              "      <td>4</td>\n",
              "      <td>7</td>\n",
              "      <td>10</td>\n",
              "    </tr>\n",
              "    <tr>\n",
              "      <th>2</th>\n",
              "      <td>5</td>\n",
              "      <td>8</td>\n",
              "      <td>11</td>\n",
              "    </tr>\n",
              "    <tr>\n",
              "      <th>e</th>\n",
              "      <th>2</th>\n",
              "      <td>6</td>\n",
              "      <td>9</td>\n",
              "      <td>12</td>\n",
              "    </tr>\n",
              "  </tbody>\n",
              "</table>\n",
              "</div>"
            ],
            "text/plain": [
              "     a  b   c\n",
              "n v          \n",
              "d 1  4  7  10\n",
              "  2  5  8  11\n",
              "e 2  6  9  12"
            ]
          },
          "metadata": {
            "tags": []
          },
          "execution_count": 6
        }
      ]
    },
    {
      "cell_type": "markdown",
      "metadata": {
        "id": "Sia9Rodv1NKT",
        "colab_type": "text"
      },
      "source": [
        "## Method Chaining\n"
      ]
    },
    {
      "cell_type": "code",
      "metadata": {
        "id": "mi0EBGEY1R0_",
        "colab_type": "code",
        "colab": {
          "base_uri": "https://localhost:8080/",
          "height": 47
        },
        "outputId": "a595e827-2220-4726-b316-fe6d63c73a75"
      },
      "source": [
        " ## Most pandas methods return a DataFrame so that another pandas method can be applied to the result. This improves readability of code.\n",
        "\n",
        "df4 = (pd.melt(df3).rename(columns={'variable' : 'var', \n",
        "                                   'value' : 'val'}).query('val >= 200'))\n",
        "df4"
      ],
      "execution_count": 8,
      "outputs": [
        {
          "output_type": "execute_result",
          "data": {
            "text/html": [
              "<div>\n",
              "<style scoped>\n",
              "    .dataframe tbody tr th:only-of-type {\n",
              "        vertical-align: middle;\n",
              "    }\n",
              "\n",
              "    .dataframe tbody tr th {\n",
              "        vertical-align: top;\n",
              "    }\n",
              "\n",
              "    .dataframe thead th {\n",
              "        text-align: right;\n",
              "    }\n",
              "</style>\n",
              "<table border=\"1\" class=\"dataframe\">\n",
              "  <thead>\n",
              "    <tr style=\"text-align: right;\">\n",
              "      <th></th>\n",
              "      <th>var</th>\n",
              "      <th>val</th>\n",
              "    </tr>\n",
              "  </thead>\n",
              "  <tbody>\n",
              "  </tbody>\n",
              "</table>\n",
              "</div>"
            ],
            "text/plain": [
              "Empty DataFrame\n",
              "Columns: [var, val]\n",
              "Index: []"
            ]
          },
          "metadata": {
            "tags": []
          },
          "execution_count": 8
        }
      ]
    },
    {
      "cell_type": "markdown",
      "metadata": {
        "id": "ZegdGvrt1vrZ",
        "colab_type": "text"
      },
      "source": [
        "## Reshaping Data – Change the layout of a data set\n"
      ]
    },
    {
      "cell_type": "code",
      "metadata": {
        "id": "TKOQbZWd1qA5",
        "colab_type": "code",
        "colab": {
          "base_uri": "https://localhost:8080/",
          "height": 381
        },
        "outputId": "35addd32-a1bb-4c43-a0c6-e87cfdee97e5"
      },
      "source": [
        "## Gather columns into rows.\n",
        "\n",
        "print(df1)\n",
        "\n",
        "df5 = pd.melt(df1)\n",
        "df5"
      ],
      "execution_count": 20,
      "outputs": [
        {
          "output_type": "stream",
          "text": [
            "   a  b   c\n",
            "1  4  7  10\n",
            "2  5  8  11\n",
            "3  6  9  12\n"
          ],
          "name": "stdout"
        },
        {
          "output_type": "execute_result",
          "data": {
            "text/html": [
              "<div>\n",
              "<style scoped>\n",
              "    .dataframe tbody tr th:only-of-type {\n",
              "        vertical-align: middle;\n",
              "    }\n",
              "\n",
              "    .dataframe tbody tr th {\n",
              "        vertical-align: top;\n",
              "    }\n",
              "\n",
              "    .dataframe thead th {\n",
              "        text-align: right;\n",
              "    }\n",
              "</style>\n",
              "<table border=\"1\" class=\"dataframe\">\n",
              "  <thead>\n",
              "    <tr style=\"text-align: right;\">\n",
              "      <th></th>\n",
              "      <th>variable</th>\n",
              "      <th>value</th>\n",
              "    </tr>\n",
              "  </thead>\n",
              "  <tbody>\n",
              "    <tr>\n",
              "      <th>0</th>\n",
              "      <td>a</td>\n",
              "      <td>4</td>\n",
              "    </tr>\n",
              "    <tr>\n",
              "      <th>1</th>\n",
              "      <td>a</td>\n",
              "      <td>5</td>\n",
              "    </tr>\n",
              "    <tr>\n",
              "      <th>2</th>\n",
              "      <td>a</td>\n",
              "      <td>6</td>\n",
              "    </tr>\n",
              "    <tr>\n",
              "      <th>3</th>\n",
              "      <td>b</td>\n",
              "      <td>7</td>\n",
              "    </tr>\n",
              "    <tr>\n",
              "      <th>4</th>\n",
              "      <td>b</td>\n",
              "      <td>8</td>\n",
              "    </tr>\n",
              "    <tr>\n",
              "      <th>5</th>\n",
              "      <td>b</td>\n",
              "      <td>9</td>\n",
              "    </tr>\n",
              "    <tr>\n",
              "      <th>6</th>\n",
              "      <td>c</td>\n",
              "      <td>10</td>\n",
              "    </tr>\n",
              "    <tr>\n",
              "      <th>7</th>\n",
              "      <td>c</td>\n",
              "      <td>11</td>\n",
              "    </tr>\n",
              "    <tr>\n",
              "      <th>8</th>\n",
              "      <td>c</td>\n",
              "      <td>12</td>\n",
              "    </tr>\n",
              "  </tbody>\n",
              "</table>\n",
              "</div>"
            ],
            "text/plain": [
              "  variable  value\n",
              "0        a      4\n",
              "1        a      5\n",
              "2        a      6\n",
              "3        b      7\n",
              "4        b      8\n",
              "5        b      9\n",
              "6        c     10\n",
              "7        c     11\n",
              "8        c     12"
            ]
          },
          "metadata": {
            "tags": []
          },
          "execution_count": 20
        }
      ]
    },
    {
      "cell_type": "code",
      "metadata": {
        "id": "NypENgAl2RUd",
        "colab_type": "code",
        "colab": {
          "base_uri": "https://localhost:8080/",
          "height": 314
        },
        "outputId": "3bba6863-c417-4f01-a4e8-add5bc48d66e"
      },
      "source": [
        "## Spread rows into columns.\n",
        "\n",
        "df6 = df5.pivot(columns='variable', values='value')\n",
        "df6"
      ],
      "execution_count": 21,
      "outputs": [
        {
          "output_type": "execute_result",
          "data": {
            "text/html": [
              "<div>\n",
              "<style scoped>\n",
              "    .dataframe tbody tr th:only-of-type {\n",
              "        vertical-align: middle;\n",
              "    }\n",
              "\n",
              "    .dataframe tbody tr th {\n",
              "        vertical-align: top;\n",
              "    }\n",
              "\n",
              "    .dataframe thead th {\n",
              "        text-align: right;\n",
              "    }\n",
              "</style>\n",
              "<table border=\"1\" class=\"dataframe\">\n",
              "  <thead>\n",
              "    <tr style=\"text-align: right;\">\n",
              "      <th>variable</th>\n",
              "      <th>a</th>\n",
              "      <th>b</th>\n",
              "      <th>c</th>\n",
              "    </tr>\n",
              "  </thead>\n",
              "  <tbody>\n",
              "    <tr>\n",
              "      <th>0</th>\n",
              "      <td>4.0</td>\n",
              "      <td>NaN</td>\n",
              "      <td>NaN</td>\n",
              "    </tr>\n",
              "    <tr>\n",
              "      <th>1</th>\n",
              "      <td>5.0</td>\n",
              "      <td>NaN</td>\n",
              "      <td>NaN</td>\n",
              "    </tr>\n",
              "    <tr>\n",
              "      <th>2</th>\n",
              "      <td>6.0</td>\n",
              "      <td>NaN</td>\n",
              "      <td>NaN</td>\n",
              "    </tr>\n",
              "    <tr>\n",
              "      <th>3</th>\n",
              "      <td>NaN</td>\n",
              "      <td>7.0</td>\n",
              "      <td>NaN</td>\n",
              "    </tr>\n",
              "    <tr>\n",
              "      <th>4</th>\n",
              "      <td>NaN</td>\n",
              "      <td>8.0</td>\n",
              "      <td>NaN</td>\n",
              "    </tr>\n",
              "    <tr>\n",
              "      <th>5</th>\n",
              "      <td>NaN</td>\n",
              "      <td>9.0</td>\n",
              "      <td>NaN</td>\n",
              "    </tr>\n",
              "    <tr>\n",
              "      <th>6</th>\n",
              "      <td>NaN</td>\n",
              "      <td>NaN</td>\n",
              "      <td>10.0</td>\n",
              "    </tr>\n",
              "    <tr>\n",
              "      <th>7</th>\n",
              "      <td>NaN</td>\n",
              "      <td>NaN</td>\n",
              "      <td>11.0</td>\n",
              "    </tr>\n",
              "    <tr>\n",
              "      <th>8</th>\n",
              "      <td>NaN</td>\n",
              "      <td>NaN</td>\n",
              "      <td>12.0</td>\n",
              "    </tr>\n",
              "  </tbody>\n",
              "</table>\n",
              "</div>"
            ],
            "text/plain": [
              "variable    a    b     c\n",
              "0         4.0  NaN   NaN\n",
              "1         5.0  NaN   NaN\n",
              "2         6.0  NaN   NaN\n",
              "3         NaN  7.0   NaN\n",
              "4         NaN  8.0   NaN\n",
              "5         NaN  9.0   NaN\n",
              "6         NaN  NaN  10.0\n",
              "7         NaN  NaN  11.0\n",
              "8         NaN  NaN  12.0"
            ]
          },
          "metadata": {
            "tags": []
          },
          "execution_count": 21
        }
      ]
    },
    {
      "cell_type": "code",
      "metadata": {
        "id": "tSA7-czz3oLA",
        "colab_type": "code",
        "colab": {
          "base_uri": "https://localhost:8080/",
          "height": 359
        },
        "outputId": "11d9abb0-805f-4616-9d06-2d8dd76053b3"
      },
      "source": [
        "## Append rows of DataFrames\n",
        "\n",
        "print(df1)\n",
        "\n",
        "print(df2)\n",
        "\n",
        "pd.concat([df1,df2])"
      ],
      "execution_count": 23,
      "outputs": [
        {
          "output_type": "stream",
          "text": [
            "   a  b   c\n",
            "1  4  7  10\n",
            "2  5  8  11\n",
            "3  6  9  12\n",
            "   a  b   c\n",
            "1  4  7  10\n",
            "2  5  8  11\n",
            "3  6  9  12\n"
          ],
          "name": "stdout"
        },
        {
          "output_type": "execute_result",
          "data": {
            "text/html": [
              "<div>\n",
              "<style scoped>\n",
              "    .dataframe tbody tr th:only-of-type {\n",
              "        vertical-align: middle;\n",
              "    }\n",
              "\n",
              "    .dataframe tbody tr th {\n",
              "        vertical-align: top;\n",
              "    }\n",
              "\n",
              "    .dataframe thead th {\n",
              "        text-align: right;\n",
              "    }\n",
              "</style>\n",
              "<table border=\"1\" class=\"dataframe\">\n",
              "  <thead>\n",
              "    <tr style=\"text-align: right;\">\n",
              "      <th></th>\n",
              "      <th>a</th>\n",
              "      <th>b</th>\n",
              "      <th>c</th>\n",
              "    </tr>\n",
              "  </thead>\n",
              "  <tbody>\n",
              "    <tr>\n",
              "      <th>1</th>\n",
              "      <td>4</td>\n",
              "      <td>7</td>\n",
              "      <td>10</td>\n",
              "    </tr>\n",
              "    <tr>\n",
              "      <th>2</th>\n",
              "      <td>5</td>\n",
              "      <td>8</td>\n",
              "      <td>11</td>\n",
              "    </tr>\n",
              "    <tr>\n",
              "      <th>3</th>\n",
              "      <td>6</td>\n",
              "      <td>9</td>\n",
              "      <td>12</td>\n",
              "    </tr>\n",
              "    <tr>\n",
              "      <th>1</th>\n",
              "      <td>4</td>\n",
              "      <td>7</td>\n",
              "      <td>10</td>\n",
              "    </tr>\n",
              "    <tr>\n",
              "      <th>2</th>\n",
              "      <td>5</td>\n",
              "      <td>8</td>\n",
              "      <td>11</td>\n",
              "    </tr>\n",
              "    <tr>\n",
              "      <th>3</th>\n",
              "      <td>6</td>\n",
              "      <td>9</td>\n",
              "      <td>12</td>\n",
              "    </tr>\n",
              "  </tbody>\n",
              "</table>\n",
              "</div>"
            ],
            "text/plain": [
              "   a  b   c\n",
              "1  4  7  10\n",
              "2  5  8  11\n",
              "3  6  9  12\n",
              "1  4  7  10\n",
              "2  5  8  11\n",
              "3  6  9  12"
            ]
          },
          "metadata": {
            "tags": []
          },
          "execution_count": 23
        }
      ]
    },
    {
      "cell_type": "code",
      "metadata": {
        "id": "VYYeQA2t318-",
        "colab_type": "code",
        "colab": {
          "base_uri": "https://localhost:8080/",
          "height": 136
        },
        "outputId": "bb73ec4a-d9a0-4a28-a68e-7d73c4e68584"
      },
      "source": [
        "## Append columns of DataFrames\n",
        "\n",
        "pd.concat([df1,df2], axis=1)"
      ],
      "execution_count": 24,
      "outputs": [
        {
          "output_type": "execute_result",
          "data": {
            "text/html": [
              "<div>\n",
              "<style scoped>\n",
              "    .dataframe tbody tr th:only-of-type {\n",
              "        vertical-align: middle;\n",
              "    }\n",
              "\n",
              "    .dataframe tbody tr th {\n",
              "        vertical-align: top;\n",
              "    }\n",
              "\n",
              "    .dataframe thead th {\n",
              "        text-align: right;\n",
              "    }\n",
              "</style>\n",
              "<table border=\"1\" class=\"dataframe\">\n",
              "  <thead>\n",
              "    <tr style=\"text-align: right;\">\n",
              "      <th></th>\n",
              "      <th>a</th>\n",
              "      <th>b</th>\n",
              "      <th>c</th>\n",
              "      <th>a</th>\n",
              "      <th>b</th>\n",
              "      <th>c</th>\n",
              "    </tr>\n",
              "  </thead>\n",
              "  <tbody>\n",
              "    <tr>\n",
              "      <th>1</th>\n",
              "      <td>4</td>\n",
              "      <td>7</td>\n",
              "      <td>10</td>\n",
              "      <td>4</td>\n",
              "      <td>7</td>\n",
              "      <td>10</td>\n",
              "    </tr>\n",
              "    <tr>\n",
              "      <th>2</th>\n",
              "      <td>5</td>\n",
              "      <td>8</td>\n",
              "      <td>11</td>\n",
              "      <td>5</td>\n",
              "      <td>8</td>\n",
              "      <td>11</td>\n",
              "    </tr>\n",
              "    <tr>\n",
              "      <th>3</th>\n",
              "      <td>6</td>\n",
              "      <td>9</td>\n",
              "      <td>12</td>\n",
              "      <td>6</td>\n",
              "      <td>9</td>\n",
              "      <td>12</td>\n",
              "    </tr>\n",
              "  </tbody>\n",
              "</table>\n",
              "</div>"
            ],
            "text/plain": [
              "   a  b   c  a  b   c\n",
              "1  4  7  10  4  7  10\n",
              "2  5  8  11  5  8  11\n",
              "3  6  9  12  6  9  12"
            ]
          },
          "metadata": {
            "tags": []
          },
          "execution_count": 24
        }
      ]
    },
    {
      "cell_type": "code",
      "metadata": {
        "id": "PPCbnqbG396U",
        "colab_type": "code",
        "colab": {}
      },
      "source": [
        "df.sort_values('mpg')\n",
        "#Order rows by values of a column (low to high).\n",
        "\n",
        "df.sort_values('mpg',ascending=False)\n",
        "#Order rows by values of a column (high to low).\n",
        "\n",
        "df.rename(columns = {'y':'year'})\n",
        "#Rename the columns of a DataFrame\n",
        "\n",
        "df.sort_index()\n",
        "#Sort the index of a DataFrame\n",
        "\n",
        "df.reset_index()\n",
        "#Reset index of DataFrame to row numbers, moving index to columns.\n",
        "\n",
        "df.drop(columns=['Length','Height'])\n",
        "#Drop columns from DataFrame\n"
      ],
      "execution_count": 0,
      "outputs": []
    },
    {
      "cell_type": "markdown",
      "metadata": {
        "id": "zCxNKk044dCC",
        "colab_type": "text"
      },
      "source": [
        "## Subset Observations (Rows)"
      ]
    },
    {
      "cell_type": "code",
      "metadata": {
        "id": "bRy7Mukh4TEH",
        "colab_type": "code",
        "colab": {}
      },
      "source": [
        "df[df.Length > 7]\n",
        "#Extract rows that meet logical criteria.\n",
        "\n",
        "df.drop_duplicates()\n",
        "#Remove duplicate rows (only considers columns).\n",
        "\n",
        "df.head(n)\n",
        "#Select first n rows.\n",
        "\n",
        "df.tail(n)\n",
        "#Select last n rows.\n",
        "\n",
        "df.sample(frac=0.5)\n",
        "#Randomly select fraction of rows.\n",
        "\n",
        "df.sample(n=10)\n",
        "#Randomly select n rows.\n",
        "\n",
        "df.iloc[10:20]\n",
        "#Select rows by position.\n",
        "\n",
        "df.nlargest(n, 'value')\n",
        "#Select and order top n entries.\n",
        "\n",
        "df.nsmallest(n, 'value')\n",
        "#Select and order bottom n entries.\n",
        "\n",
        "df.column.isin(values) #Group membership\n",
        "\n",
        "pd.isnull(obj) #Is NaN\n",
        "\n",
        "pd.notnull(obj) #Is not NaN"
      ],
      "execution_count": 0,
      "outputs": []
    },
    {
      "cell_type": "markdown",
      "metadata": {
        "id": "Cv9Rnpm25fXM",
        "colab_type": "text"
      },
      "source": [
        "## Subset Variables (Columns)"
      ]
    },
    {
      "cell_type": "code",
      "metadata": {
        "id": "QZRWYvt_5eIq",
        "colab_type": "code",
        "colab": {}
      },
      "source": [
        "df[['width','length','species']]\n",
        "#Select multiple columns with specific names.\n",
        "\n",
        "df['width'] or df.width\n",
        "#Select single column with specific name.\n",
        "\n",
        "df.filter(regex='regex')\n",
        "#Select columns whose name matches regular expression regex."
      ],
      "execution_count": 0,
      "outputs": []
    },
    {
      "cell_type": "code",
      "metadata": {
        "id": "DDwiVD1O5zN1",
        "colab_type": "code",
        "colab": {}
      },
      "source": [
        "# regex (Regular Expressions) Examples\n",
        "\n",
        "# '\\.' Matches strings containing a period '.'\n",
        "#'Length$' Matches strings ending with word 'Length'\n",
        "# '^Sepal' Matches strings beginning with the word 'Sepal'\n",
        "# '^x[1-5]$' Matches strings beginning with 'x' and ending with 1,2,3,4,5\n",
        "# '^(?!Species$).*' Matches strings except the string 'Species'\n"
      ],
      "execution_count": 0,
      "outputs": []
    },
    {
      "cell_type": "code",
      "metadata": {
        "id": "MywwAQeN54wa",
        "colab_type": "code",
        "colab": {}
      },
      "source": [
        "df.loc[:,'x2':'x4']\n",
        "#Select all columns between x2 and x4 (inclusive).\n",
        "\n",
        "df.iloc[:,[1,2,5]]\n",
        "#Select columns in positions 1, 2 and 5 (first column is 0).\n",
        "\n",
        "df.loc[df['a'] > 10, ['a','c']]\n",
        "#Select rows meeting logical condition, and only the specific columns ."
      ],
      "execution_count": 0,
      "outputs": []
    },
    {
      "cell_type": "markdown",
      "metadata": {
        "id": "o9_qYc1Q6T_M",
        "colab_type": "text"
      },
      "source": [
        "## Summarize Data"
      ]
    },
    {
      "cell_type": "code",
      "metadata": {
        "id": "8YvU2Skr6TmQ",
        "colab_type": "code",
        "colab": {}
      },
      "source": [
        "df['w'].value_counts()\n",
        "#Count number of rows with each unique value of variable\n",
        "\n",
        "len(df)\n",
        "# of rows in DataFrame.\n",
        "\n",
        "df['w'].nunique()\n",
        "# of distinct values in a column.\n",
        "\n",
        "df.describe()\n",
        "#Basic descriptive statistics for each column (or GroupBy)\n"
      ],
      "execution_count": 0,
      "outputs": []
    },
    {
      "cell_type": "code",
      "metadata": {
        "id": "3lsbej6R64MV",
        "colab_type": "code",
        "colab": {}
      },
      "source": [
        "## pandas provides a large set of summary functions that operate on\n",
        "## different kinds of pandas objects (DataFrame columns, Series,\n",
        "## GroupBy, Expanding and Rolling (see below)) and produce single\n",
        "## values for each of the groups. When applied to a DataFrame, the\n",
        "## result is returned as a pandas Series for each column. Examples:\n",
        "\n",
        "sum()\n",
        "#Sum values of each object.\n",
        "\n",
        "count()\n",
        "#Count non-NA/null values of each object.\n",
        "\n",
        "median()\n",
        "#Median value of each object.\n",
        "\n",
        "quantile([0.25,0.75])\n",
        "#Quantiles of each object.\n",
        "\n",
        "apply(function)\n",
        "#Apply function to each object.\n",
        "\n",
        "min()\n",
        "#Minimum value in each object.\n",
        "\n",
        "max()\n",
        "#Maximum value in each object.\n",
        "\n",
        "mean()\n",
        "#Mean value of each object.\n",
        "var()\n",
        "#Variance of each object.\n",
        "\n",
        "std()\n",
        "#Standard deviation of each object."
      ],
      "execution_count": 0,
      "outputs": []
    },
    {
      "cell_type": "code",
      "metadata": {
        "id": "LNYevL2o7Git",
        "colab_type": "code",
        "colab": {
          "base_uri": "https://localhost:8080/",
          "height": 84
        },
        "outputId": "2d69cb60-d862-484a-f068-9615d9d96ac4"
      },
      "source": [
        "df2.sum()"
      ],
      "execution_count": 25,
      "outputs": [
        {
          "output_type": "execute_result",
          "data": {
            "text/plain": [
              "a    15\n",
              "b    24\n",
              "c    33\n",
              "dtype: int64"
            ]
          },
          "metadata": {
            "tags": []
          },
          "execution_count": 25
        }
      ]
    },
    {
      "cell_type": "code",
      "metadata": {
        "id": "HfQzuL0Y7IEd",
        "colab_type": "code",
        "colab": {
          "base_uri": "https://localhost:8080/",
          "height": 106
        },
        "outputId": "36ee1d66-9f50-4b21-a2ef-31a31e3e0c7e"
      },
      "source": [
        "df3.quantile([0.25,0.75])"
      ],
      "execution_count": 26,
      "outputs": [
        {
          "output_type": "execute_result",
          "data": {
            "text/html": [
              "<div>\n",
              "<style scoped>\n",
              "    .dataframe tbody tr th:only-of-type {\n",
              "        vertical-align: middle;\n",
              "    }\n",
              "\n",
              "    .dataframe tbody tr th {\n",
              "        vertical-align: top;\n",
              "    }\n",
              "\n",
              "    .dataframe thead th {\n",
              "        text-align: right;\n",
              "    }\n",
              "</style>\n",
              "<table border=\"1\" class=\"dataframe\">\n",
              "  <thead>\n",
              "    <tr style=\"text-align: right;\">\n",
              "      <th></th>\n",
              "      <th>a</th>\n",
              "      <th>b</th>\n",
              "      <th>c</th>\n",
              "    </tr>\n",
              "  </thead>\n",
              "  <tbody>\n",
              "    <tr>\n",
              "      <th>0.25</th>\n",
              "      <td>4.5</td>\n",
              "      <td>7.5</td>\n",
              "      <td>10.5</td>\n",
              "    </tr>\n",
              "    <tr>\n",
              "      <th>0.75</th>\n",
              "      <td>5.5</td>\n",
              "      <td>8.5</td>\n",
              "      <td>11.5</td>\n",
              "    </tr>\n",
              "  </tbody>\n",
              "</table>\n",
              "</div>"
            ],
            "text/plain": [
              "        a    b     c\n",
              "0.25  4.5  7.5  10.5\n",
              "0.75  5.5  8.5  11.5"
            ]
          },
          "metadata": {
            "tags": []
          },
          "execution_count": 26
        }
      ]
    },
    {
      "cell_type": "markdown",
      "metadata": {
        "id": "eTjL1tXR7Scr",
        "colab_type": "text"
      },
      "source": [
        "## Handling Missing Data"
      ]
    },
    {
      "cell_type": "code",
      "metadata": {
        "id": "5cl6UNWJ7OMC",
        "colab_type": "code",
        "colab": {}
      },
      "source": [
        "df.dropna()\n",
        "## Drop rows with any column having NA/null data.\n",
        "\n",
        "df.fillna(value)\n",
        "## Replace all NA/null data with value."
      ],
      "execution_count": 0,
      "outputs": []
    },
    {
      "cell_type": "markdown",
      "metadata": {
        "id": "Npeg-qZc7a6u",
        "colab_type": "text"
      },
      "source": [
        "## Make New Columns"
      ]
    },
    {
      "cell_type": "code",
      "metadata": {
        "id": "fGY_6x5f7aSW",
        "colab_type": "code",
        "colab": {}
      },
      "source": [
        "df.assign(Area=lambda df: df.Length*df.Height)\n",
        "##Compute and append one or more new columns.\n",
        "\n",
        "df['Volume'] = df.Length*df.Height*df.Depth\n",
        "##Add single column.\n",
        "\n",
        "pd.qcut(df.col, n, labels=False)\n",
        "##Bin column into n buckets."
      ],
      "execution_count": 0,
      "outputs": []
    },
    {
      "cell_type": "code",
      "metadata": {
        "id": "q2i871PV8d56",
        "colab_type": "code",
        "colab": {}
      },
      "source": [
        "## pandas provides a large set of vector functions that operate on all\n",
        "## columns of a DataFrame or a single selected column (a pandas\n",
        "## Series). These functions produce vectors of values for each of the\n",
        "## columns, or a single Series for the individual Series. Examples:\n",
        "\n",
        "max(axis=1)\n",
        "#Element-wise max.\n",
        "\n",
        "clip(lower=-10,upper=10)\n",
        "#Trim values at input thresholds\n",
        "\n",
        "min(axis=1)\n",
        "#Element-wise min.\n",
        "\n",
        "abs()\n",
        "#Absolute value"
      ],
      "execution_count": 0,
      "outputs": []
    },
    {
      "cell_type": "code",
      "metadata": {
        "id": "XnobtJzH8t-L",
        "colab_type": "code",
        "colab": {
          "base_uri": "https://localhost:8080/",
          "height": 136
        },
        "outputId": "b0482429-06ca-4530-f829-b97ef481d447"
      },
      "source": [
        "df1['max'] = df1.max(axis=1)\n",
        "df1"
      ],
      "execution_count": 30,
      "outputs": [
        {
          "output_type": "execute_result",
          "data": {
            "text/html": [
              "<div>\n",
              "<style scoped>\n",
              "    .dataframe tbody tr th:only-of-type {\n",
              "        vertical-align: middle;\n",
              "    }\n",
              "\n",
              "    .dataframe tbody tr th {\n",
              "        vertical-align: top;\n",
              "    }\n",
              "\n",
              "    .dataframe thead th {\n",
              "        text-align: right;\n",
              "    }\n",
              "</style>\n",
              "<table border=\"1\" class=\"dataframe\">\n",
              "  <thead>\n",
              "    <tr style=\"text-align: right;\">\n",
              "      <th></th>\n",
              "      <th>a</th>\n",
              "      <th>b</th>\n",
              "      <th>c</th>\n",
              "      <th>max</th>\n",
              "    </tr>\n",
              "  </thead>\n",
              "  <tbody>\n",
              "    <tr>\n",
              "      <th>1</th>\n",
              "      <td>4</td>\n",
              "      <td>7</td>\n",
              "      <td>10</td>\n",
              "      <td>10</td>\n",
              "    </tr>\n",
              "    <tr>\n",
              "      <th>2</th>\n",
              "      <td>5</td>\n",
              "      <td>8</td>\n",
              "      <td>11</td>\n",
              "      <td>11</td>\n",
              "    </tr>\n",
              "    <tr>\n",
              "      <th>3</th>\n",
              "      <td>6</td>\n",
              "      <td>9</td>\n",
              "      <td>12</td>\n",
              "      <td>12</td>\n",
              "    </tr>\n",
              "  </tbody>\n",
              "</table>\n",
              "</div>"
            ],
            "text/plain": [
              "   a  b   c  max\n",
              "1  4  7  10   10\n",
              "2  5  8  11   11\n",
              "3  6  9  12   12"
            ]
          },
          "metadata": {
            "tags": []
          },
          "execution_count": 30
        }
      ]
    },
    {
      "cell_type": "code",
      "metadata": {
        "id": "Xc5ApkfZ81M-",
        "colab_type": "code",
        "colab": {
          "base_uri": "https://localhost:8080/",
          "height": 136
        },
        "outputId": "c4238636-0527-4eb1-8714-e69aa01f5606"
      },
      "source": [
        "df1.abs()"
      ],
      "execution_count": 31,
      "outputs": [
        {
          "output_type": "execute_result",
          "data": {
            "text/html": [
              "<div>\n",
              "<style scoped>\n",
              "    .dataframe tbody tr th:only-of-type {\n",
              "        vertical-align: middle;\n",
              "    }\n",
              "\n",
              "    .dataframe tbody tr th {\n",
              "        vertical-align: top;\n",
              "    }\n",
              "\n",
              "    .dataframe thead th {\n",
              "        text-align: right;\n",
              "    }\n",
              "</style>\n",
              "<table border=\"1\" class=\"dataframe\">\n",
              "  <thead>\n",
              "    <tr style=\"text-align: right;\">\n",
              "      <th></th>\n",
              "      <th>a</th>\n",
              "      <th>b</th>\n",
              "      <th>c</th>\n",
              "      <th>max</th>\n",
              "    </tr>\n",
              "  </thead>\n",
              "  <tbody>\n",
              "    <tr>\n",
              "      <th>1</th>\n",
              "      <td>4</td>\n",
              "      <td>7</td>\n",
              "      <td>10</td>\n",
              "      <td>10</td>\n",
              "    </tr>\n",
              "    <tr>\n",
              "      <th>2</th>\n",
              "      <td>5</td>\n",
              "      <td>8</td>\n",
              "      <td>11</td>\n",
              "      <td>11</td>\n",
              "    </tr>\n",
              "    <tr>\n",
              "      <th>3</th>\n",
              "      <td>6</td>\n",
              "      <td>9</td>\n",
              "      <td>12</td>\n",
              "      <td>12</td>\n",
              "    </tr>\n",
              "  </tbody>\n",
              "</table>\n",
              "</div>"
            ],
            "text/plain": [
              "   a  b   c  max\n",
              "1  4  7  10   10\n",
              "2  5  8  11   11\n",
              "3  6  9  12   12"
            ]
          },
          "metadata": {
            "tags": []
          },
          "execution_count": 31
        }
      ]
    },
    {
      "cell_type": "markdown",
      "metadata": {
        "id": "u66cQ_7kA41z",
        "colab_type": "text"
      },
      "source": [
        "## Group Data"
      ]
    },
    {
      "cell_type": "code",
      "metadata": {
        "id": "v4ozR-O682K6",
        "colab_type": "code",
        "colab": {}
      },
      "source": [
        "df.groupby(by=\"col\")\n",
        "#Return a GroupBy object, grouped by values in column named \"col\".\n",
        "\n",
        "df.groupby(level=\"ind\")\n",
        "#Return a GroupBy object, grouped by values in index level named \"ind\".\n",
        "\n",
        "#All of the summary functions listed above can be applied to a group.\n",
        "#Additional GroupBy functions:\n",
        "\n",
        "size()\n",
        "#Size of each group.\n",
        "\n",
        "agg(function)\n",
        "#Aggregate group using function.\n",
        "\n",
        "shift(1)\n",
        "#Copy with values shifted by 1.\n",
        "\n",
        "rank(method='dense')\n",
        "#Ranks with no gaps.\n",
        "\n",
        "rank(method='min')\n",
        "#Ranks. Ties get min rank.\n",
        "\n",
        "rank(pct=True)\n",
        "#Ranks rescaled to interval [0, 1].\n",
        "\n",
        "rank(method='first')\n",
        "#Ranks. Ties go to first value.\n",
        "\n",
        "shift(-1)\n",
        "#Copy with values lagged by 1.\n",
        "\n",
        "cumsum()\n",
        "#Cumulative sum.\n",
        "\n",
        "cummax()\n",
        "#Cumulative max.\n",
        "\n",
        "cummin()\n",
        "#Cumulative min.\n",
        "\n",
        "cumprod()\n",
        "#Cumulative product.\n"
      ],
      "execution_count": 0,
      "outputs": []
    },
    {
      "cell_type": "markdown",
      "metadata": {
        "id": "xQRu1DiSBlj7",
        "colab_type": "text"
      },
      "source": [
        "## Windows"
      ]
    },
    {
      "cell_type": "code",
      "metadata": {
        "id": "6GEWyVsqBGS_",
        "colab_type": "code",
        "colab": {}
      },
      "source": [
        "df.expanding()\n",
        "## Return an Expanding object allowing summary functions to be applied cumulatively.\n",
        "\n",
        "df.rolling(n)\n",
        "## Return a Rolling object allowing summary functions to be applied to windows of length n.\n"
      ],
      "execution_count": 0,
      "outputs": []
    },
    {
      "cell_type": "markdown",
      "metadata": {
        "id": "MOXyZbNGBvfC",
        "colab_type": "text"
      },
      "source": [
        "## Plotting"
      ]
    },
    {
      "cell_type": "code",
      "metadata": {
        "id": "ZlC5iRPCBxZ0",
        "colab_type": "code",
        "colab": {}
      },
      "source": [
        "df.plot.hist()\n",
        "##Histogram for each column\n",
        "\n",
        "df.plot.scatter(x='w',y='h')\n",
        "##Scatter chart using pairs of points"
      ],
      "execution_count": 0,
      "outputs": []
    },
    {
      "cell_type": "markdown",
      "metadata": {
        "id": "gYhjuf0OB8HG",
        "colab_type": "text"
      },
      "source": [
        "## Combine Data Sets\n"
      ]
    },
    {
      "cell_type": "code",
      "metadata": {
        "id": "FwiV70X5B974",
        "colab_type": "code",
        "colab": {}
      },
      "source": [
        "pd.merge(adf, bdf, how='left', on='x1')\n",
        "#Join matching rows from bdf to adf\n",
        "\n",
        "pd.merge(adf, bdf, how='right', on='x1')\n",
        "#Join matching rows from adf to bdf.\n",
        "\n",
        "pd.merge(adf, bdf, how='inner', on='x1')\n",
        "#Join data. Retain only rows in both sets.\n",
        "\n",
        "pd.merge(adf, bdf, how='outer', on='x1')\n",
        "#Join data. Retain all values, all rows\n",
        "\n",
        "adf[adf.x1.isin(bdf.x1)]\n",
        "#All rows in adf that have a match in bdf.\n",
        "\n",
        "adf[~adf.x1.isin(bdf.x1)]\n",
        "#All rows in adf that do not have a match in bdf."
      ],
      "execution_count": 0,
      "outputs": []
    }
  ]
}