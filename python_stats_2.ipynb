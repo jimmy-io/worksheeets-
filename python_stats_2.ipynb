{
  "nbformat": 4,
  "nbformat_minor": 0,
  "metadata": {
    "colab": {
      "name": "python_stats_2.ipynb",
      "provenance": [],
      "authorship_tag": "ABX9TyPMhwAzyAi6/GGWQlmbr2Mv",
      "include_colab_link": true
    },
    "kernelspec": {
      "name": "python3",
      "display_name": "Python 3"
    }
  },
  "cells": [
    {
      "cell_type": "markdown",
      "metadata": {
        "id": "view-in-github",
        "colab_type": "text"
      },
      "source": [
        "<a href=\"https://colab.research.google.com/github/jimmy-io/worksheeets-/blob/master/python_stats_2.ipynb\" target=\"_parent\"><img src=\"https://colab.research.google.com/assets/colab-badge.svg\" alt=\"Open In Colab\"/></a>"
      ]
    },
    {
      "cell_type": "code",
      "metadata": {
        "id": "-ReaQfQ4xAUg",
        "colab_type": "code",
        "colab": {}
      },
      "source": [
        "import pandas as pd\n",
        "import numpy as np\n",
        "from scipy import stats\n",
        "import matplotlib.pyplot as plt\n",
        "import seaborn as sns\n",
        "from pandas import plotting\n",
        "import datetime"
      ],
      "execution_count": 0,
      "outputs": []
    },
    {
      "cell_type": "code",
      "metadata": {
        "id": "w512FA2XxD23",
        "colab_type": "code",
        "colab": {
          "base_uri": "https://localhost:8080/",
          "height": 136
        },
        "outputId": "2d28b55a-6094-4038-9980-05b62a3f1560"
      },
      "source": [
        "index = ['A', 'B', 'C', 'D', 'E', 'F']\n",
        "data = np.random.randn(6)\n",
        "data\n",
        "s2 = pd.Series(data, index)\n",
        "s2"
      ],
      "execution_count": 2,
      "outputs": [
        {
          "output_type": "execute_result",
          "data": {
            "text/plain": [
              "A   -0.065568\n",
              "B    0.727524\n",
              "C    0.781043\n",
              "D    2.712889\n",
              "E   -0.624479\n",
              "F    1.936662\n",
              "dtype: float64"
            ]
          },
          "metadata": {
            "tags": []
          },
          "execution_count": 2
        }
      ]
    },
    {
      "cell_type": "code",
      "metadata": {
        "id": "IrcbD_XTxcIA",
        "colab_type": "code",
        "colab": {
          "base_uri": "https://localhost:8080/",
          "height": 136
        },
        "outputId": "acfd5a92-83a0-4e2e-dcf5-bba87e042424"
      },
      "source": [
        "s2.cumsum() ## cummulative sum"
      ],
      "execution_count": 3,
      "outputs": [
        {
          "output_type": "execute_result",
          "data": {
            "text/plain": [
              "A   -0.065568\n",
              "B    0.661956\n",
              "C    1.442999\n",
              "D    4.155888\n",
              "E    3.531408\n",
              "F    5.468071\n",
              "dtype: float64"
            ]
          },
          "metadata": {
            "tags": []
          },
          "execution_count": 3
        }
      ]
    },
    {
      "cell_type": "code",
      "metadata": {
        "id": "l2L9l7THxc9P",
        "colab_type": "code",
        "colab": {
          "base_uri": "https://localhost:8080/",
          "height": 119
        },
        "outputId": "e07a6ccf-c98c-48a8-d6ca-06efa565cf43"
      },
      "source": [
        "# Series from dictionary is (of course) not ordered. Keys are used for the index.\n",
        "d = {'one': 1, 'two': 2, 'three': 3, 'four': 4, 'five': 5}\n",
        "s4 = pd.Series(d)\n",
        "s4"
      ],
      "execution_count": 4,
      "outputs": [
        {
          "output_type": "execute_result",
          "data": {
            "text/plain": [
              "one      1\n",
              "two      2\n",
              "three    3\n",
              "four     4\n",
              "five     5\n",
              "dtype: int64"
            ]
          },
          "metadata": {
            "tags": []
          },
          "execution_count": 4
        }
      ]
    },
    {
      "cell_type": "code",
      "metadata": {
        "id": "YpkUlZBJxoD7",
        "colab_type": "code",
        "colab": {
          "base_uri": "https://localhost:8080/",
          "height": 102
        },
        "outputId": "1a44ba7e-37d5-41df-8019-8446151a9bde"
      },
      "source": [
        "# looping over collection\n",
        "for i, v in enumerate(s4):\n",
        "    print (i, v)"
      ],
      "execution_count": 5,
      "outputs": [
        {
          "output_type": "stream",
          "text": [
            "0 1\n",
            "1 2\n",
            "2 3\n",
            "3 4\n",
            "4 5\n"
          ],
          "name": "stdout"
        }
      ]
    },
    {
      "cell_type": "code",
      "metadata": {
        "id": "EClDK5T2xzjW",
        "colab_type": "code",
        "colab": {
          "base_uri": "https://localhost:8080/",
          "height": 34
        },
        "outputId": "327a086e-c0c9-4682-fece-29e9e3552951"
      },
      "source": [
        "s4b = [x**2 for x in s4]\n",
        "s4b"
      ],
      "execution_count": 6,
      "outputs": [
        {
          "output_type": "execute_result",
          "data": {
            "text/plain": [
              "[1, 4, 9, 16, 25]"
            ]
          },
          "metadata": {
            "tags": []
          },
          "execution_count": 6
        }
      ]
    },
    {
      "cell_type": "code",
      "metadata": {
        "id": "dcJznJz2yLuq",
        "colab_type": "code",
        "colab": {
          "base_uri": "https://localhost:8080/",
          "height": 204
        },
        "outputId": "0dd3b051-3003-4aa2-9d03-99869bb3c1b7"
      },
      "source": [
        "# Collection of data columns\n",
        "s1 = np.random.randn(5)\n",
        "s2 = [True, True, False, True, False]\n",
        "s3 = ['Apple', 'Banana', 'Tomato', 'Bean', 'Rice']\n",
        "\n",
        "# Dict with added column names\n",
        "data = {'Randnum': s1, 'IsBool': s2, 'Name': s3}\n",
        "df = pd.DataFrame(data)\n",
        "df"
      ],
      "execution_count": 8,
      "outputs": [
        {
          "output_type": "execute_result",
          "data": {
            "text/html": [
              "<div>\n",
              "<style scoped>\n",
              "    .dataframe tbody tr th:only-of-type {\n",
              "        vertical-align: middle;\n",
              "    }\n",
              "\n",
              "    .dataframe tbody tr th {\n",
              "        vertical-align: top;\n",
              "    }\n",
              "\n",
              "    .dataframe thead th {\n",
              "        text-align: right;\n",
              "    }\n",
              "</style>\n",
              "<table border=\"1\" class=\"dataframe\">\n",
              "  <thead>\n",
              "    <tr style=\"text-align: right;\">\n",
              "      <th></th>\n",
              "      <th>Randnum</th>\n",
              "      <th>IsBool</th>\n",
              "      <th>Name</th>\n",
              "    </tr>\n",
              "  </thead>\n",
              "  <tbody>\n",
              "    <tr>\n",
              "      <th>0</th>\n",
              "      <td>0.849112</td>\n",
              "      <td>True</td>\n",
              "      <td>Apple</td>\n",
              "    </tr>\n",
              "    <tr>\n",
              "      <th>1</th>\n",
              "      <td>-0.278470</td>\n",
              "      <td>True</td>\n",
              "      <td>Banana</td>\n",
              "    </tr>\n",
              "    <tr>\n",
              "      <th>2</th>\n",
              "      <td>-0.247592</td>\n",
              "      <td>False</td>\n",
              "      <td>Tomato</td>\n",
              "    </tr>\n",
              "    <tr>\n",
              "      <th>3</th>\n",
              "      <td>0.103345</td>\n",
              "      <td>True</td>\n",
              "      <td>Bean</td>\n",
              "    </tr>\n",
              "    <tr>\n",
              "      <th>4</th>\n",
              "      <td>0.006226</td>\n",
              "      <td>False</td>\n",
              "      <td>Rice</td>\n",
              "    </tr>\n",
              "  </tbody>\n",
              "</table>\n",
              "</div>"
            ],
            "text/plain": [
              "    Randnum  IsBool    Name\n",
              "0  0.849112    True   Apple\n",
              "1 -0.278470    True  Banana\n",
              "2 -0.247592   False  Tomato\n",
              "3  0.103345    True    Bean\n",
              "4  0.006226   False    Rice"
            ]
          },
          "metadata": {
            "tags": []
          },
          "execution_count": 8
        }
      ]
    },
    {
      "cell_type": "code",
      "metadata": {
        "id": "gFF6_gtfzAGf",
        "colab_type": "code",
        "colab": {
          "base_uri": "https://localhost:8080/",
          "height": 119
        },
        "outputId": "8618a880-2207-4242-9cb1-bd587983407e"
      },
      "source": [
        "belowzero = df.Randnum < 0\n",
        "belowzero"
      ],
      "execution_count": 9,
      "outputs": [
        {
          "output_type": "execute_result",
          "data": {
            "text/plain": [
              "0    False\n",
              "1     True\n",
              "2     True\n",
              "3    False\n",
              "4    False\n",
              "Name: Randnum, dtype: bool"
            ]
          },
          "metadata": {
            "tags": []
          },
          "execution_count": 9
        }
      ]
    },
    {
      "cell_type": "code",
      "metadata": {
        "id": "-F9KZk76zBtG",
        "colab_type": "code",
        "colab": {
          "base_uri": "https://localhost:8080/",
          "height": 119
        },
        "outputId": "d3d3d105-fe8f-4a32-cbda-4996468209f7"
      },
      "source": [
        "isapple = df['Name'] == 'Apple'\n",
        "isapple"
      ],
      "execution_count": 10,
      "outputs": [
        {
          "output_type": "execute_result",
          "data": {
            "text/plain": [
              "0     True\n",
              "1    False\n",
              "2    False\n",
              "3    False\n",
              "4    False\n",
              "Name: Name, dtype: bool"
            ]
          },
          "metadata": {
            "tags": []
          },
          "execution_count": 10
        }
      ]
    },
    {
      "cell_type": "code",
      "metadata": {
        "id": "JdBgqEIxzEAc",
        "colab_type": "code",
        "colab": {
          "base_uri": "https://localhost:8080/",
          "height": 111
        },
        "outputId": "0a1b6a34-c74a-453b-fad6-4dd38e99b5f7"
      },
      "source": [
        "df[belowzero]"
      ],
      "execution_count": 12,
      "outputs": [
        {
          "output_type": "execute_result",
          "data": {
            "text/html": [
              "<div>\n",
              "<style scoped>\n",
              "    .dataframe tbody tr th:only-of-type {\n",
              "        vertical-align: middle;\n",
              "    }\n",
              "\n",
              "    .dataframe tbody tr th {\n",
              "        vertical-align: top;\n",
              "    }\n",
              "\n",
              "    .dataframe thead th {\n",
              "        text-align: right;\n",
              "    }\n",
              "</style>\n",
              "<table border=\"1\" class=\"dataframe\">\n",
              "  <thead>\n",
              "    <tr style=\"text-align: right;\">\n",
              "      <th></th>\n",
              "      <th>Randnum</th>\n",
              "      <th>IsBool</th>\n",
              "      <th>Name</th>\n",
              "    </tr>\n",
              "  </thead>\n",
              "  <tbody>\n",
              "    <tr>\n",
              "      <th>1</th>\n",
              "      <td>-0.278470</td>\n",
              "      <td>True</td>\n",
              "      <td>Banana</td>\n",
              "    </tr>\n",
              "    <tr>\n",
              "      <th>2</th>\n",
              "      <td>-0.247592</td>\n",
              "      <td>False</td>\n",
              "      <td>Tomato</td>\n",
              "    </tr>\n",
              "  </tbody>\n",
              "</table>\n",
              "</div>"
            ],
            "text/plain": [
              "    Randnum  IsBool    Name\n",
              "1 -0.278470    True  Banana\n",
              "2 -0.247592   False  Tomato"
            ]
          },
          "metadata": {
            "tags": []
          },
          "execution_count": 12
        }
      ]
    },
    {
      "cell_type": "code",
      "metadata": {
        "id": "pcQ-RfzgzOgX",
        "colab_type": "code",
        "colab": {
          "base_uri": "https://localhost:8080/",
          "height": 142
        },
        "outputId": "ffa95cde-2923-43a7-f6f4-acc4ecb4ee8c"
      },
      "source": [
        "df[belowzero | isapple]"
      ],
      "execution_count": 13,
      "outputs": [
        {
          "output_type": "execute_result",
          "data": {
            "text/html": [
              "<div>\n",
              "<style scoped>\n",
              "    .dataframe tbody tr th:only-of-type {\n",
              "        vertical-align: middle;\n",
              "    }\n",
              "\n",
              "    .dataframe tbody tr th {\n",
              "        vertical-align: top;\n",
              "    }\n",
              "\n",
              "    .dataframe thead th {\n",
              "        text-align: right;\n",
              "    }\n",
              "</style>\n",
              "<table border=\"1\" class=\"dataframe\">\n",
              "  <thead>\n",
              "    <tr style=\"text-align: right;\">\n",
              "      <th></th>\n",
              "      <th>Randnum</th>\n",
              "      <th>IsBool</th>\n",
              "      <th>Name</th>\n",
              "    </tr>\n",
              "  </thead>\n",
              "  <tbody>\n",
              "    <tr>\n",
              "      <th>0</th>\n",
              "      <td>0.849112</td>\n",
              "      <td>True</td>\n",
              "      <td>Apple</td>\n",
              "    </tr>\n",
              "    <tr>\n",
              "      <th>1</th>\n",
              "      <td>-0.278470</td>\n",
              "      <td>True</td>\n",
              "      <td>Banana</td>\n",
              "    </tr>\n",
              "    <tr>\n",
              "      <th>2</th>\n",
              "      <td>-0.247592</td>\n",
              "      <td>False</td>\n",
              "      <td>Tomato</td>\n",
              "    </tr>\n",
              "  </tbody>\n",
              "</table>\n",
              "</div>"
            ],
            "text/plain": [
              "    Randnum  IsBool    Name\n",
              "0  0.849112    True   Apple\n",
              "1 -0.278470    True  Banana\n",
              "2 -0.247592   False  Tomato"
            ]
          },
          "metadata": {
            "tags": []
          },
          "execution_count": 13
        }
      ]
    },
    {
      "cell_type": "code",
      "metadata": {
        "id": "k56y26VKzUXY",
        "colab_type": "code",
        "colab": {
          "base_uri": "https://localhost:8080/",
          "height": 235
        },
        "outputId": "92b5b1df-23a9-49d2-a606-fea96b1b242a"
      },
      "source": [
        "# Set the index to a date range\n",
        "df.index = pd.date_range('1-1-2015', periods=5, freq='d')\n",
        "df.index.name = 'Date'\n",
        "df"
      ],
      "execution_count": 14,
      "outputs": [
        {
          "output_type": "execute_result",
          "data": {
            "text/html": [
              "<div>\n",
              "<style scoped>\n",
              "    .dataframe tbody tr th:only-of-type {\n",
              "        vertical-align: middle;\n",
              "    }\n",
              "\n",
              "    .dataframe tbody tr th {\n",
              "        vertical-align: top;\n",
              "    }\n",
              "\n",
              "    .dataframe thead th {\n",
              "        text-align: right;\n",
              "    }\n",
              "</style>\n",
              "<table border=\"1\" class=\"dataframe\">\n",
              "  <thead>\n",
              "    <tr style=\"text-align: right;\">\n",
              "      <th></th>\n",
              "      <th>Randnum</th>\n",
              "      <th>IsBool</th>\n",
              "      <th>Name</th>\n",
              "    </tr>\n",
              "    <tr>\n",
              "      <th>Date</th>\n",
              "      <th></th>\n",
              "      <th></th>\n",
              "      <th></th>\n",
              "    </tr>\n",
              "  </thead>\n",
              "  <tbody>\n",
              "    <tr>\n",
              "      <th>2015-01-01</th>\n",
              "      <td>0.849112</td>\n",
              "      <td>True</td>\n",
              "      <td>Apple</td>\n",
              "    </tr>\n",
              "    <tr>\n",
              "      <th>2015-01-02</th>\n",
              "      <td>-0.278470</td>\n",
              "      <td>True</td>\n",
              "      <td>Banana</td>\n",
              "    </tr>\n",
              "    <tr>\n",
              "      <th>2015-01-03</th>\n",
              "      <td>-0.247592</td>\n",
              "      <td>False</td>\n",
              "      <td>Tomato</td>\n",
              "    </tr>\n",
              "    <tr>\n",
              "      <th>2015-01-04</th>\n",
              "      <td>0.103345</td>\n",
              "      <td>True</td>\n",
              "      <td>Bean</td>\n",
              "    </tr>\n",
              "    <tr>\n",
              "      <th>2015-01-05</th>\n",
              "      <td>0.006226</td>\n",
              "      <td>False</td>\n",
              "      <td>Rice</td>\n",
              "    </tr>\n",
              "  </tbody>\n",
              "</table>\n",
              "</div>"
            ],
            "text/plain": [
              "             Randnum  IsBool    Name\n",
              "Date                                \n",
              "2015-01-01  0.849112    True   Apple\n",
              "2015-01-02 -0.278470    True  Banana\n",
              "2015-01-03 -0.247592   False  Tomato\n",
              "2015-01-04  0.103345    True    Bean\n",
              "2015-01-05  0.006226   False    Rice"
            ]
          },
          "metadata": {
            "tags": []
          },
          "execution_count": 14
        }
      ]
    },
    {
      "cell_type": "code",
      "metadata": {
        "id": "ikFFOafh0H2n",
        "colab_type": "code",
        "colab": {
          "base_uri": "https://localhost:8080/",
          "height": 204
        },
        "outputId": "125b375f-beb5-40ba-ed5d-320f5e3b91a2"
      },
      "source": [
        "# Constructing a beer sales DataFrame\n",
        "df = pd.DataFrame({'Billy Beer': [13884, 23008, 17883, 24435, 49938],\n",
        "                   'Lucky Lager': [34565, 83938, 59437, 28843, 48285],\n",
        "                   'Triple Bock': [39987, 35512, 23542, 37729, 36647]})\n",
        "df"
      ],
      "execution_count": 15,
      "outputs": [
        {
          "output_type": "execute_result",
          "data": {
            "text/html": [
              "<div>\n",
              "<style scoped>\n",
              "    .dataframe tbody tr th:only-of-type {\n",
              "        vertical-align: middle;\n",
              "    }\n",
              "\n",
              "    .dataframe tbody tr th {\n",
              "        vertical-align: top;\n",
              "    }\n",
              "\n",
              "    .dataframe thead th {\n",
              "        text-align: right;\n",
              "    }\n",
              "</style>\n",
              "<table border=\"1\" class=\"dataframe\">\n",
              "  <thead>\n",
              "    <tr style=\"text-align: right;\">\n",
              "      <th></th>\n",
              "      <th>Billy Beer</th>\n",
              "      <th>Lucky Lager</th>\n",
              "      <th>Triple Bock</th>\n",
              "    </tr>\n",
              "  </thead>\n",
              "  <tbody>\n",
              "    <tr>\n",
              "      <th>0</th>\n",
              "      <td>13884</td>\n",
              "      <td>34565</td>\n",
              "      <td>39987</td>\n",
              "    </tr>\n",
              "    <tr>\n",
              "      <th>1</th>\n",
              "      <td>23008</td>\n",
              "      <td>83938</td>\n",
              "      <td>35512</td>\n",
              "    </tr>\n",
              "    <tr>\n",
              "      <th>2</th>\n",
              "      <td>17883</td>\n",
              "      <td>59437</td>\n",
              "      <td>23542</td>\n",
              "    </tr>\n",
              "    <tr>\n",
              "      <th>3</th>\n",
              "      <td>24435</td>\n",
              "      <td>28843</td>\n",
              "      <td>37729</td>\n",
              "    </tr>\n",
              "    <tr>\n",
              "      <th>4</th>\n",
              "      <td>49938</td>\n",
              "      <td>48285</td>\n",
              "      <td>36647</td>\n",
              "    </tr>\n",
              "  </tbody>\n",
              "</table>\n",
              "</div>"
            ],
            "text/plain": [
              "   Billy Beer  Lucky Lager  Triple Bock\n",
              "0       13884        34565        39987\n",
              "1       23008        83938        35512\n",
              "2       17883        59437        23542\n",
              "3       24435        28843        37729\n",
              "4       49938        48285        36647"
            ]
          },
          "metadata": {
            "tags": []
          },
          "execution_count": 15
        }
      ]
    },
    {
      "cell_type": "code",
      "metadata": {
        "id": "-st-DQ2B0Nfq",
        "colab_type": "code",
        "colab": {
          "base_uri": "https://localhost:8080/",
          "height": 102
        },
        "outputId": "7f6f70a6-bf46-4053-e5d7-097626d89fee"
      },
      "source": [
        "# The same result values as using scipy stats zscore with\n",
        "# a dynamic degrees of freedom of 1 \n",
        "stats.zscore(df, ddof=1)"
      ],
      "execution_count": 16,
      "outputs": [
        {
          "output_type": "execute_result",
          "data": {
            "text/plain": [
              "array([[-0.84628719, -0.74989281,  0.82308764],\n",
              "       [-0.19989653,  1.50102567,  0.12859386],\n",
              "       [-0.56297765,  0.38402339, -1.72907998],\n",
              "       [-0.09880057, -1.01075918,  0.47265927],\n",
              "       [ 1.70796194, -0.12439706,  0.30473921]])"
            ]
          },
          "metadata": {
            "tags": []
          },
          "execution_count": 16
        }
      ]
    },
    {
      "cell_type": "code",
      "metadata": {
        "id": "tkiQGyz60TLW",
        "colab_type": "code",
        "colab": {
          "base_uri": "https://localhost:8080/",
          "height": 85
        },
        "outputId": "624b0788-03bd-461a-b67c-113f159459a6"
      },
      "source": [
        "x = np.linspace(0, 10, 500)\n",
        "x[-20:]"
      ],
      "execution_count": 20,
      "outputs": [
        {
          "output_type": "execute_result",
          "data": {
            "text/plain": [
              "array([ 9.61923848,  9.63927856,  9.65931864,  9.67935872,  9.6993988 ,\n",
              "        9.71943888,  9.73947896,  9.75951904,  9.77955912,  9.7995992 ,\n",
              "        9.81963928,  9.83967936,  9.85971944,  9.87975952,  9.8997996 ,\n",
              "        9.91983968,  9.93987976,  9.95991984,  9.97995992, 10.        ])"
            ]
          },
          "metadata": {
            "tags": []
          },
          "execution_count": 20
        }
      ]
    },
    {
      "cell_type": "code",
      "metadata": {
        "id": "X4BA8CCy0shH",
        "colab_type": "code",
        "colab": {
          "base_uri": "https://localhost:8080/",
          "height": 295
        },
        "outputId": "c5a7b2dc-765b-418f-d3fe-c9dcc322c4e8"
      },
      "source": [
        "\n",
        "# Plot the default matlplotlib style\n",
        "plt.title('Default MatPlotLib')\n",
        "plt.xlabel('x-axis')\n",
        "plt.ylabel('y-axis')\n",
        "plt.plot(x, x**8)\n",
        "plt.show()"
      ],
      "execution_count": 21,
      "outputs": [
        {
          "output_type": "display_data",
          "data": {
            "image/png": "[encoded data removed]",
            "text/plain": [
              "<Figure size 432x288 with 1 Axes>"
            ]
          },
          "metadata": {
            "tags": []
          }
        }
      ]
    }
  ]
}