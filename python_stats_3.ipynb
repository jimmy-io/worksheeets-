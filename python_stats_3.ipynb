{
  "nbformat": 4,
  "nbformat_minor": 0,
  "metadata": {
    "colab": {
      "name": "python_stats_3.ipynb",
      "provenance": [],
      "collapsed_sections": [],
      "mount_file_id": "1aeQ0OhroxPF8AZwcvyx4om8mW446ISHK",
      "authorship_tag": "ABX9TyNXMvuC6lBjYhX2hZnoAVIY",
      "include_colab_link": true
    },
    "kernelspec": {
      "name": "python3",
      "display_name": "Python 3"
    }
  },
  "cells": [
    {
      "cell_type": "markdown",
      "metadata": {
        "id": "view-in-github",
        "colab_type": "text"
      },
      "source": [
        "<a href=\"https://colab.research.google.com/github/jimmy-io/worksheeets-/blob/master/python_stats_3.ipynb\" target=\"_parent\"><img src=\"https://colab.research.google.com/assets/colab-badge.svg\" alt=\"Open In Colab\"/></a>"
      ]
    },
    {
      "cell_type": "code",
      "metadata": {
        "id": "t4mP72ua5en_",
        "colab_type": "code",
        "colab": {}
      },
      "source": [
        "\n",
        "%matplotlib inline\n",
        "import numpy as np\n",
        "import pandas as pd\n",
        "import matplotlib.pyplot as plt\n",
        "import seaborn as sns\n",
        "from scipy import stats"
      ],
      "execution_count": 0,
      "outputs": []
    },
    {
      "cell_type": "code",
      "metadata": {
        "id": "AXOGVSef5pCx",
        "colab_type": "code",
        "colab": {
          "base_uri": "https://localhost:8080/",
          "height": 68
        },
        "outputId": "8a47b56c-7a76-40f6-e3d5-e1b6ea26b8ba"
      },
      "source": [
        "\n",
        "# Draw 10000 samples from a normal distribution of Twitter followers\n",
        "twitter_mu = 208.0\n",
        "twitter_sigma = 60.0\n",
        "twitter_followers = np.random.normal(twitter_mu, twitter_sigma, 10000)\n",
        "\n",
        "# show first 12 samples\n",
        "twitter_followers[:12]"
      ],
      "execution_count": 2,
      "outputs": [
        {
          "output_type": "execute_result",
          "data": {
            "text/plain": [
              "array([172.51606499, 189.26498992, 229.26325311, 169.93000625,\n",
              "       136.03514914, 194.36804803, 143.5832439 , 134.35445888,\n",
              "        93.2857916 , 210.99366   , 283.43286218, 222.80063978])"
            ]
          },
          "metadata": {
            "tags": []
          },
          "execution_count": 2
        }
      ]
    },
    {
      "cell_type": "code",
      "metadata": {
        "id": "cSBUayU05qBr",
        "colab_type": "code",
        "colab": {
          "base_uri": "https://localhost:8080/",
          "height": 68
        },
        "outputId": "2f13503b-5d9f-4299-c490-290ffc43fe99"
      },
      "source": [
        "\n",
        "# Draw 10000 samples from a normal distribution of Facebook friends\n",
        "facebook_mu = 190.0\n",
        "facebook_sigma = 36.0\n",
        "facebook_friends = np.random.normal(facebook_mu, facebook_sigma, 10000)\n",
        "\n",
        "# show first 12 samples\n",
        "facebook_friends[:12]"
      ],
      "execution_count": 3,
      "outputs": [
        {
          "output_type": "execute_result",
          "data": {
            "text/plain": [
              "array([196.15941476, 186.88521232, 271.83322332, 213.59895174,\n",
              "       230.14630912, 183.37809986, 192.95508368, 188.65007796,\n",
              "       210.7849445 , 116.46683152, 186.17264338, 148.24566234])"
            ]
          },
          "metadata": {
            "tags": []
          },
          "execution_count": 3
        }
      ]
    },
    {
      "cell_type": "code",
      "metadata": {
        "id": "IjkzfMe65sIJ",
        "colab_type": "code",
        "colab": {
          "base_uri": "https://localhost:8080/",
          "height": 296
        },
        "outputId": "b9166169-7ea0-4181-e691-8421b8f7d174"
      },
      "source": [
        "sns.distplot(twitter_followers)\n",
        "sns.distplot(facebook_friends)\n",
        "plt.xlabel('X')\n",
        "c=plt.legend()\n"
      ],
      "execution_count": 11,
      "outputs": [
        {
          "output_type": "stream",
          "text": [
            "No handles with labels found to put in legend.\n"
          ],
          "name": "stderr"
        },
        {
          "output_type": "display_data",
          "data": {
            "image/png": "[encoded data removed]",
            "text/plain": [
              "<Figure size 432x288 with 1 Axes>"
            ]
          },
          "metadata": {
            "tags": []
          }
        }
      ]
    },
    {
      "cell_type": "code",
      "metadata": {
        "id": "x-gDO3nG50jY",
        "colab_type": "code",
        "colab": {
          "base_uri": "https://localhost:8080/",
          "height": 265
        },
        "outputId": "9b545c5a-dcee-4d95-f241-93ecb8cdd155"
      },
      "source": [
        "c=sns.boxplot([twitter_followers, facebook_friends], \n",
        "            ['Twitter followers', 'Facebook friends'])\n"
      ],
      "execution_count": 18,
      "outputs": [
        {
          "output_type": "display_data",
          "data": {
            "image/png": "[encoded data removed]",
            "text/plain": [
              "<Figure size 432x288 with 1 Axes>"
            ]
          },
          "metadata": {
            "tags": []
          }
        }
      ]
    },
    {
      "cell_type": "markdown",
      "metadata": {
        "id": "Qg7QT-bf7A3d",
        "colab_type": "text"
      },
      "source": [
        "## The Standard Normal Distribution"
      ]
    },
    {
      "cell_type": "code",
      "metadata": {
        "id": "qa9Ko9H36Qh7",
        "colab_type": "code",
        "colab": {}
      },
      "source": [
        "z_scores_t = stats.mstats.zscore(twitter_followers)\n",
        "z_scores_f = stats.mstats.zscore(facebook_friends)"
      ],
      "execution_count": 0,
      "outputs": []
    },
    {
      "cell_type": "code",
      "metadata": {
        "id": "4yQfL-_Q7Ruq",
        "colab_type": "code",
        "colab": {
          "base_uri": "https://localhost:8080/",
          "height": 282
        },
        "outputId": "3f0c4b04-6509-480a-a3d3-2890836de290"
      },
      "source": [
        "sns.distplot(z_scores_t)\n",
        "sns.distplot(z_scores_f)"
      ],
      "execution_count": 21,
      "outputs": [
        {
          "output_type": "execute_result",
          "data": {
            "text/plain": [
              "<matplotlib.axes._subplots.AxesSubplot at 0x7f041be1c278>"
            ]
          },
          "metadata": {
            "tags": []
          },
          "execution_count": 21
        },
        {
          "output_type": "display_data",
          "data": {
            "image/png": "[encoded data removed]",
            "text/plain": [
              "<Figure size 432x288 with 1 Axes>"
            ]
          },
          "metadata": {
            "tags": []
          }
        }
      ]
    },
    {
      "cell_type": "markdown",
      "metadata": {
        "id": "woNHD8qj7uoM",
        "colab_type": "text"
      },
      "source": [
        "## Using the Probability Density Function"
      ]
    },
    {
      "cell_type": "code",
      "metadata": {
        "id": "9uytHX5E7XSZ",
        "colab_type": "code",
        "colab": {
          "base_uri": "https://localhost:8080/",
          "height": 282
        },
        "outputId": "8bcfbe07-8528-4dcf-ea51-8bad30d95a6c"
      },
      "source": [
        "## # First take a look at the pdf and especially the green area under\n",
        "# the curve containing the probability of 227 Facebook friends or less.\n",
        "x = 227.0\n",
        "sns.distplot(facebook_friends, label='Facebook friends', kde=False, \n",
        "             fit=stats.norm, color='w')\n",
        "x_plot = np.linspace(min(facebook_friends), x, 1000)\n",
        "y_plot = stats.norm.pdf(x_plot, facebook_mu, facebook_sigma)\n",
        "plt.fill_between(x_plot,  y_plot)"
      ],
      "execution_count": 24,
      "outputs": [
        {
          "output_type": "execute_result",
          "data": {
            "text/plain": [
              "<matplotlib.collections.PolyCollection at 0x7f041b9ddcc0>"
            ]
          },
          "metadata": {
            "tags": []
          },
          "execution_count": 24
        },
        {
          "output_type": "display_data",
          "data": {
            "image/png": "[encoded data removed]",
            "text/plain": [
              "<Figure size 432x288 with 1 Axes>"
            ]
          },
          "metadata": {
            "tags": []
          }
        }
      ]
    },
    {
      "cell_type": "code",
      "metadata": {
        "id": "2PQ6xS8x73_e",
        "colab_type": "code",
        "colab": {
          "base_uri": "https://localhost:8080/",
          "height": 34
        },
        "outputId": "0afbc4b7-4d59-49fe-f1f3-4927f0f1ebb0"
      },
      "source": [
        "\n",
        "# To calculate the probability, we need the z score.\n",
        "zscore = (x - facebook_mu) / facebook_sigma\n",
        "zscore"
      ],
      "execution_count": 25,
      "outputs": [
        {
          "output_type": "execute_result",
          "data": {
            "text/plain": [
              "1.0277777777777777"
            ]
          },
          "metadata": {
            "tags": []
          },
          "execution_count": 25
        }
      ]
    },
    {
      "cell_type": "code",
      "metadata": {
        "id": "FP4S6FSr8NmE",
        "colab_type": "code",
        "colab": {
          "base_uri": "https://localhost:8080/",
          "height": 34
        },
        "outputId": "c11fc934-9e40-4845-f46e-d154c0ac1560"
      },
      "source": [
        "# Calculate the probability by calling stats.norm.cdf\n",
        "# This is a computational z table lookup\n",
        "p = stats.norm.cdf(zscore)\n",
        "p"
      ],
      "execution_count": 26,
      "outputs": [
        {
          "output_type": "execute_result",
          "data": {
            "text/plain": [
              "0.8479728141176333"
            ]
          },
          "metadata": {
            "tags": []
          },
          "execution_count": 26
        }
      ]
    },
    {
      "cell_type": "markdown",
      "metadata": {
        "id": "IhoTX7e18ypb",
        "colab_type": "text"
      },
      "source": [
        "## From probability back to the actual value"
      ]
    },
    {
      "cell_type": "code",
      "metadata": {
        "id": "Y7mnouV08cUv",
        "colab_type": "code",
        "colab": {
          "base_uri": "https://localhost:8080/",
          "height": 34
        },
        "outputId": "6b5c594d-a215-4ce6-e71c-0982760ba544"
      },
      "source": [
        "## Let's assume we have a 21% chance of having a certain number of Facebook \n",
        "##friends or more. What is the minimum number of Facebook friends we have in this case?\n",
        "\n",
        "# We use the ppf function (inverse cdf) - from probability to z score\n",
        "p = 1 - .21\n",
        "z = stats.norm.ppf(p)\n",
        "z"
      ],
      "execution_count": 27,
      "outputs": [
        {
          "output_type": "execute_result",
          "data": {
            "text/plain": [
              "0.8064212470182404"
            ]
          },
          "metadata": {
            "tags": []
          },
          "execution_count": 27
        }
      ]
    },
    {
      "cell_type": "code",
      "metadata": {
        "id": "TYIDdKxq9CBD",
        "colab_type": "code",
        "colab": {
          "base_uri": "https://localhost:8080/",
          "height": 34
        },
        "outputId": "a3089f37-5259-4a4d-e954-d5d0c8304a5b"
      },
      "source": [
        "# From z score to number of Facebook friends\n",
        "x = z * facebook_sigma + facebook_mu\n",
        "x"
      ],
      "execution_count": 28,
      "outputs": [
        {
          "output_type": "execute_result",
          "data": {
            "text/plain": [
              "219.03116489265665"
            ]
          },
          "metadata": {
            "tags": []
          },
          "execution_count": 28
        }
      ]
    },
    {
      "cell_type": "code",
      "metadata": {
        "id": "waz7LIWb9H2F",
        "colab_type": "code",
        "colab": {
          "base_uri": "https://localhost:8080/",
          "height": 265
        },
        "outputId": "e366f3fb-8eee-4423-bbca-53f14d415925"
      },
      "source": [
        "# The green area under the curve containing the probability \n",
        "# of (roughly) 206 Facebook friends or more.\n",
        "sns.distplot(facebook_friends, label='Facebook friends', kde=False, \n",
        "             fit=stats.norm, color='w')\n",
        "plt.text(x+5, .0003, '$x$='+str(int(x)))\n",
        "\n",
        "x_plot = np.linspace(x, max(facebook_friends), 1000)\n",
        "y_plot = stats.norm.pdf(x_plot, facebook_mu, facebook_sigma)\n",
        "plt.fill_between(x_plot,  y_plot)\n",
        "c=plt.legend()"
      ],
      "execution_count": 29,
      "outputs": [
        {
          "output_type": "display_data",
          "data": {
            "image/png": "[encoded data removed]",
            "text/plain": [
              "<Figure size 432x288 with 1 Axes>"
            ]
          },
          "metadata": {
            "tags": []
          }
        }
      ]
    },
    {
      "cell_type": "code",
      "metadata": {
        "id": "qS_wlbU09K1U",
        "colab_type": "code",
        "colab": {
          "base_uri": "https://localhost:8080/",
          "height": 34
        },
        "outputId": "a1219783-b70e-4896-b613-2c9f15f785f3"
      },
      "source": [
        "data = np.array([1.0, 2.0, 3.0, 4.0])\n",
        "data"
      ],
      "execution_count": 30,
      "outputs": [
        {
          "output_type": "execute_result",
          "data": {
            "text/plain": [
              "array([1., 2., 3., 4.])"
            ]
          },
          "metadata": {
            "tags": []
          },
          "execution_count": 30
        }
      ]
    },
    {
      "cell_type": "code",
      "metadata": {
        "id": "5yfamdit9haE",
        "colab_type": "code",
        "colab": {}
      },
      "source": [
        "data = pd.Series(data)"
      ],
      "execution_count": 0,
      "outputs": []
    },
    {
      "cell_type": "code",
      "metadata": {
        "id": "zvEEy8Ri9kGs",
        "colab_type": "code",
        "colab": {
          "base_uri": "https://localhost:8080/",
          "height": 282
        },
        "outputId": "73ce8637-12ea-48eb-bb71-0818e0812d1b"
      },
      "source": [
        "sns.barplot(data)"
      ],
      "execution_count": 40,
      "outputs": [
        {
          "output_type": "execute_result",
          "data": {
            "text/plain": [
              "<matplotlib.axes._subplots.AxesSubplot at 0x7f041bedd240>"
            ]
          },
          "metadata": {
            "tags": []
          },
          "execution_count": 40
        },
        {
          "output_type": "display_data",
          "data": {
            "image/png": "[encoded data removed]",
            "text/plain": [
              "<Figure size 432x288 with 1 Axes>"
            ]
          },
          "metadata": {
            "tags": []
          }
        }
      ]
    },
    {
      "cell_type": "code",
      "metadata": {
        "id": "4S8NP7Zb-MWe",
        "colab_type": "code",
        "colab": {
          "base_uri": "https://localhost:8080/",
          "height": 34
        },
        "outputId": "69580cc9-6156-432b-c683-c106af948f2b"
      },
      "source": [
        "data.mean()"
      ],
      "execution_count": 42,
      "outputs": [
        {
          "output_type": "execute_result",
          "data": {
            "text/plain": [
              "2.5"
            ]
          },
          "metadata": {
            "tags": []
          },
          "execution_count": 42
        }
      ]
    },
    {
      "cell_type": "code",
      "metadata": {
        "id": "vtzKr3A0-S1S",
        "colab_type": "code",
        "colab": {
          "base_uri": "https://localhost:8080/",
          "height": 34
        },
        "outputId": "be8ed989-8b01-4357-a8e4-4eeb28e882c2"
      },
      "source": [
        "data.std(ddof = 0)"
      ],
      "execution_count": 43,
      "outputs": [
        {
          "output_type": "execute_result",
          "data": {
            "text/plain": [
              "1.118033988749895"
            ]
          },
          "metadata": {
            "tags": []
          },
          "execution_count": 43
        }
      ]
    },
    {
      "cell_type": "code",
      "metadata": {
        "id": "C4755CAa-Wef",
        "colab_type": "code",
        "colab": {
          "base_uri": "https://localhost:8080/",
          "height": 269
        },
        "outputId": "27dcc2a0-0ebb-4be6-8cbf-018ac0df3272"
      },
      "source": [
        "mean_outcome_matrix = pd.DataFrame(index=data, dtype='float64', columns=data )\n",
        "\n",
        "for x in data:\n",
        "    for y in data:\n",
        "        mean_outcome_matrix[x][y] = np.mean([x,y])\n",
        "\n",
        "# Below you see a heatmap of the mean of all possible outcomes\n",
        "p=sns.heatmap(mean_outcome_matrix, annot=True)"
      ],
      "execution_count": 44,
      "outputs": [
        {
          "output_type": "display_data",
          "data": {
            "image/png": "[encoded data removed]",
            "text/plain": [
              "<Figure size 432x288 with 2 Axes>"
            ]
          },
          "metadata": {
            "tags": []
          }
        }
      ]
    },
    {
      "cell_type": "code",
      "metadata": {
        "id": "3VKwyEsz-b_N",
        "colab_type": "code",
        "colab": {
          "base_uri": "https://localhost:8080/",
          "height": 34
        },
        "outputId": "fe08d8da-6e5f-4061-9e1e-710cb5098f97"
      },
      "source": [
        "mean_outcome_matrix.mean().mean()"
      ],
      "execution_count": 46,
      "outputs": [
        {
          "output_type": "execute_result",
          "data": {
            "text/plain": [
              "2.5"
            ]
          },
          "metadata": {
            "tags": []
          },
          "execution_count": 46
        }
      ]
    },
    {
      "cell_type": "code",
      "metadata": {
        "id": "56w31NVk-jcL",
        "colab_type": "code",
        "colab": {
          "base_uri": "https://localhost:8080/",
          "height": 265
        },
        "outputId": "1491fe7e-532a-4743-fa49-166f675f791f"
      },
      "source": [
        "p=sns.distplot(mean_outcome_matrix, bins = 7)"
      ],
      "execution_count": 50,
      "outputs": [
        {
          "output_type": "display_data",
          "data": {
            "image/png": "[encoded data removed]",
            "text/plain": [
              "<Figure size 432x288 with 1 Axes>"
            ]
          },
          "metadata": {
            "tags": []
          }
        }
      ]
    },
    {
      "cell_type": "code",
      "metadata": {
        "id": "8S3DJx8b-qqq",
        "colab_type": "code",
        "colab": {
          "base_uri": "https://localhost:8080/",
          "height": 204
        },
        "outputId": "b0c65e29-4d63-48e7-8496-84f0f535eeb6"
      },
      "source": [
        "data = pd.read_csv('/content/drive/My Drive/Insight/klout-scores.csv', header=None, names=['scores'])\n",
        "data.head()"
      ],
      "execution_count": 51,
      "outputs": [
        {
          "output_type": "execute_result",
          "data": {
            "text/html": [
              "<div>\n",
              "<style scoped>\n",
              "    .dataframe tbody tr th:only-of-type {\n",
              "        vertical-align: middle;\n",
              "    }\n",
              "\n",
              "    .dataframe tbody tr th {\n",
              "        vertical-align: top;\n",
              "    }\n",
              "\n",
              "    .dataframe thead th {\n",
              "        text-align: right;\n",
              "    }\n",
              "</style>\n",
              "<table border=\"1\" class=\"dataframe\">\n",
              "  <thead>\n",
              "    <tr style=\"text-align: right;\">\n",
              "      <th></th>\n",
              "      <th>scores</th>\n",
              "    </tr>\n",
              "  </thead>\n",
              "  <tbody>\n",
              "    <tr>\n",
              "      <th>0</th>\n",
              "      <td>25.104179</td>\n",
              "    </tr>\n",
              "    <tr>\n",
              "      <th>1</th>\n",
              "      <td>60.908747</td>\n",
              "    </tr>\n",
              "    <tr>\n",
              "      <th>2</th>\n",
              "      <td>23.222238</td>\n",
              "    </tr>\n",
              "    <tr>\n",
              "      <th>3</th>\n",
              "      <td>51.553491</td>\n",
              "    </tr>\n",
              "    <tr>\n",
              "      <th>4</th>\n",
              "      <td>22.629690</td>\n",
              "    </tr>\n",
              "  </tbody>\n",
              "</table>\n",
              "</div>"
            ],
            "text/plain": [
              "      scores\n",
              "0  25.104179\n",
              "1  60.908747\n",
              "2  23.222238\n",
              "3  51.553491\n",
              "4  22.629690"
            ]
          },
          "metadata": {
            "tags": []
          },
          "execution_count": 51
        }
      ]
    },
    {
      "cell_type": "code",
      "metadata": {
        "id": "_O_8cx57_uTw",
        "colab_type": "code",
        "colab": {
          "base_uri": "https://localhost:8080/",
          "height": 282
        },
        "outputId": "f9472a64-f839-46dd-a394-2c4b68f4ce7f"
      },
      "source": [
        "sns.distplot(data)"
      ],
      "execution_count": 52,
      "outputs": [
        {
          "output_type": "execute_result",
          "data": {
            "text/plain": [
              "<matplotlib.axes._subplots.AxesSubplot at 0x7f0417875be0>"
            ]
          },
          "metadata": {
            "tags": []
          },
          "execution_count": 52
        },
        {
          "output_type": "display_data",
          "data": {
            "image/png": "[encoded data removed]",
            "text/plain": [
              "<Figure size 432x288 with 1 Axes>"
            ]
          },
          "metadata": {
            "tags": []
          }
        }
      ]
    },
    {
      "cell_type": "markdown",
      "metadata": {
        "id": "UPJGMJqMANF5",
        "colab_type": "text"
      },
      "source": [
        "## Confidence Interval"
      ]
    },
    {
      "cell_type": "code",
      "metadata": {
        "id": "844IxzwIAPNh",
        "colab_type": "code",
        "colab": {
          "base_uri": "https://localhost:8080/",
          "height": 34
        },
        "outputId": "5dbf8f23-e769-4336-ca9f-372420b24b7a"
      },
      "source": [
        "klout_xbar = data['scores'].mean()\n",
        "klout_xbar"
      ],
      "execution_count": 54,
      "outputs": [
        {
          "output_type": "execute_result",
          "data": {
            "text/plain": [
              "37.719054832538156"
            ]
          },
          "metadata": {
            "tags": []
          },
          "execution_count": 54
        }
      ]
    },
    {
      "cell_type": "code",
      "metadata": {
        "id": "QnG6D6HyARP3",
        "colab_type": "code",
        "colab": {
          "base_uri": "https://localhost:8080/",
          "height": 34
        },
        "outputId": "15c827f6-e987-46da-84a9-69eb50c9f896"
      },
      "source": [
        "klout_s = data['scores'].std(ddof = 1)\n",
        "klout_s"
      ],
      "execution_count": 56,
      "outputs": [
        {
          "output_type": "execute_result",
          "data": {
            "text/plain": [
              "16.04431497904899"
            ]
          },
          "metadata": {
            "tags": []
          },
          "execution_count": 56
        }
      ]
    },
    {
      "cell_type": "code",
      "metadata": {
        "id": "Tx83CGrQAcvK",
        "colab_type": "code",
        "colab": {
          "base_uri": "https://localhost:8080/",
          "height": 34
        },
        "outputId": "fb58ea6c-a011-40a0-eb4a-f98b13ebfa3d"
      },
      "source": [
        "a = 0.05\n",
        "z_score = stats.norm.ppf(a/2)*-1\n",
        "z_score"
      ],
      "execution_count": 59,
      "outputs": [
        {
          "output_type": "execute_result",
          "data": {
            "text/plain": [
              "1.9599639845400545"
            ]
          },
          "metadata": {
            "tags": []
          },
          "execution_count": 59
        }
      ]
    },
    {
      "cell_type": "code",
      "metadata": {
        "id": "k0-uVmInAwAO",
        "colab_type": "code",
        "colab": {
          "base_uri": "https://localhost:8080/",
          "height": 34
        },
        "outputId": "7c680588-a736-4f42-b894-8e57e40033e5"
      },
      "source": [
        "zscore_interval = stats.norm.interval(alpha=0.95)\n",
        "zscore_interval"
      ],
      "execution_count": 60,
      "outputs": [
        {
          "output_type": "execute_result",
          "data": {
            "text/plain": [
              "(-1.959963984540054, 1.959963984540054)"
            ]
          },
          "metadata": {
            "tags": []
          },
          "execution_count": 60
        }
      ]
    },
    {
      "cell_type": "code",
      "metadata": {
        "id": "VXZcZpl6A6SC",
        "colab_type": "code",
        "colab": {
          "base_uri": "https://localhost:8080/",
          "height": 34
        },
        "outputId": "9ecb3b56-7d16-45da-8e17-d446aadd1e61"
      },
      "source": [
        "klout_SE = klout_s/len(data)**0.5\n",
        "klout_SE"
      ],
      "execution_count": 62,
      "outputs": [
        {
          "output_type": "execute_result",
          "data": {
            "text/plain": [
              "0.49561054484656264"
            ]
          },
          "metadata": {
            "tags": []
          },
          "execution_count": 62
        }
      ]
    },
    {
      "cell_type": "code",
      "metadata": {
        "id": "Xk7txQS0BCqv",
        "colab_type": "code",
        "colab": {
          "base_uri": "https://localhost:8080/",
          "height": 34
        },
        "outputId": "5c164407-d7b7-4687-fc4c-1e3413d3af77"
      },
      "source": [
        "klout_CI_mean_lower = klout_xbar - z_score * klout_SE\n",
        "klout_CI_mean_upper = klout_xbar + z_score * klout_SE\n",
        "klout_CI_mean_lower, klout_CI_mean_upper"
      ],
      "execution_count": 63,
      "outputs": [
        {
          "output_type": "execute_result",
          "data": {
            "text/plain": [
              "(36.74767601428062, 38.69043365079569)"
            ]
          },
          "metadata": {
            "tags": []
          },
          "execution_count": 63
        }
      ]
    },
    {
      "cell_type": "code",
      "metadata": {
        "id": "aEKxpxy5BL9r",
        "colab_type": "code",
        "colab": {
          "base_uri": "https://localhost:8080/",
          "height": 136
        },
        "outputId": "4c1866fe-8b58-4ac7-f47f-edccbb9a77ba"
      },
      "source": [
        "data = pd.read_csv('/content/drive/My Drive/Insight/wildlife.csv')\n",
        "\n",
        "# We only need the incident dates this time\n",
        "data = data[['INCIDENT_DATE']]\n",
        "data.INCIDENT_DATE = pd.to_datetime(data.INCIDENT_DATE)\n",
        "data = data.groupby('INCIDENT_DATE')['INCIDENT_DATE'].size()\n",
        "data.head()"
      ],
      "execution_count": 66,
      "outputs": [
        {
          "output_type": "execute_result",
          "data": {
            "text/plain": [
              "INCIDENT_DATE\n",
              "2012-01-02    1\n",
              "2012-01-04    2\n",
              "2012-01-05    5\n",
              "2012-01-06    3\n",
              "2012-01-07    2\n",
              "Name: INCIDENT_DATE, dtype: int64"
            ]
          },
          "metadata": {
            "tags": []
          },
          "execution_count": 66
        }
      ]
    },
    {
      "cell_type": "code",
      "metadata": {
        "id": "p6RGxRqACKVA",
        "colab_type": "code",
        "colab": {
          "base_uri": "https://localhost:8080/",
          "height": 204
        },
        "outputId": "94215065-2f6c-43f4-cc11-20f3a6a77f53"
      },
      "source": [
        "# Set the index to contain all days in 2012 and 2013\n",
        "days_2012_2013 = pd.date_range('1/1/2012', '12/31/2013')\n",
        "data = pd.DataFrame(data, index=days_2012_2013)\n",
        "data.head()"
      ],
      "execution_count": 67,
      "outputs": [
        {
          "output_type": "execute_result",
          "data": {
            "text/html": [
              "<div>\n",
              "<style scoped>\n",
              "    .dataframe tbody tr th:only-of-type {\n",
              "        vertical-align: middle;\n",
              "    }\n",
              "\n",
              "    .dataframe tbody tr th {\n",
              "        vertical-align: top;\n",
              "    }\n",
              "\n",
              "    .dataframe thead th {\n",
              "        text-align: right;\n",
              "    }\n",
              "</style>\n",
              "<table border=\"1\" class=\"dataframe\">\n",
              "  <thead>\n",
              "    <tr style=\"text-align: right;\">\n",
              "      <th></th>\n",
              "      <th>INCIDENT_DATE</th>\n",
              "    </tr>\n",
              "  </thead>\n",
              "  <tbody>\n",
              "    <tr>\n",
              "      <th>2012-01-01</th>\n",
              "      <td>NaN</td>\n",
              "    </tr>\n",
              "    <tr>\n",
              "      <th>2012-01-02</th>\n",
              "      <td>1.0</td>\n",
              "    </tr>\n",
              "    <tr>\n",
              "      <th>2012-01-03</th>\n",
              "      <td>NaN</td>\n",
              "    </tr>\n",
              "    <tr>\n",
              "      <th>2012-01-04</th>\n",
              "      <td>2.0</td>\n",
              "    </tr>\n",
              "    <tr>\n",
              "      <th>2012-01-05</th>\n",
              "      <td>5.0</td>\n",
              "    </tr>\n",
              "  </tbody>\n",
              "</table>\n",
              "</div>"
            ],
            "text/plain": [
              "            INCIDENT_DATE\n",
              "2012-01-01            NaN\n",
              "2012-01-02            1.0\n",
              "2012-01-03            NaN\n",
              "2012-01-04            2.0\n",
              "2012-01-05            5.0"
            ]
          },
          "metadata": {
            "tags": []
          },
          "execution_count": 67
        }
      ]
    },
    {
      "cell_type": "code",
      "metadata": {
        "id": "EzsgMie8CK9O",
        "colab_type": "code",
        "colab": {
          "base_uri": "https://localhost:8080/",
          "height": 204
        },
        "outputId": "99861cd3-1e1d-446e-fccd-2171886d4bcc"
      },
      "source": [
        "# Fill the data with no strike incidents (NaN) with a zero\n",
        "data = data.fillna(0)\n",
        "data.head()"
      ],
      "execution_count": 68,
      "outputs": [
        {
          "output_type": "execute_result",
          "data": {
            "text/html": [
              "<div>\n",
              "<style scoped>\n",
              "    .dataframe tbody tr th:only-of-type {\n",
              "        vertical-align: middle;\n",
              "    }\n",
              "\n",
              "    .dataframe tbody tr th {\n",
              "        vertical-align: top;\n",
              "    }\n",
              "\n",
              "    .dataframe thead th {\n",
              "        text-align: right;\n",
              "    }\n",
              "</style>\n",
              "<table border=\"1\" class=\"dataframe\">\n",
              "  <thead>\n",
              "    <tr style=\"text-align: right;\">\n",
              "      <th></th>\n",
              "      <th>INCIDENT_DATE</th>\n",
              "    </tr>\n",
              "  </thead>\n",
              "  <tbody>\n",
              "    <tr>\n",
              "      <th>2012-01-01</th>\n",
              "      <td>0.0</td>\n",
              "    </tr>\n",
              "    <tr>\n",
              "      <th>2012-01-02</th>\n",
              "      <td>1.0</td>\n",
              "    </tr>\n",
              "    <tr>\n",
              "      <th>2012-01-03</th>\n",
              "      <td>0.0</td>\n",
              "    </tr>\n",
              "    <tr>\n",
              "      <th>2012-01-04</th>\n",
              "      <td>2.0</td>\n",
              "    </tr>\n",
              "    <tr>\n",
              "      <th>2012-01-05</th>\n",
              "      <td>5.0</td>\n",
              "    </tr>\n",
              "  </tbody>\n",
              "</table>\n",
              "</div>"
            ],
            "text/plain": [
              "            INCIDENT_DATE\n",
              "2012-01-01            0.0\n",
              "2012-01-02            1.0\n",
              "2012-01-03            0.0\n",
              "2012-01-04            2.0\n",
              "2012-01-05            5.0"
            ]
          },
          "metadata": {
            "tags": []
          },
          "execution_count": 68
        }
      ]
    },
    {
      "cell_type": "code",
      "metadata": {
        "id": "mPq8pBPhCSgm",
        "colab_type": "code",
        "colab": {
          "base_uri": "https://localhost:8080/",
          "height": 281
        },
        "outputId": "effdd3f1-2444-418b-8638-ca5d4deba2d1"
      },
      "source": [
        "# Plot of the daily strike incident frequencies of 2012 and 2013\n",
        "f, (ax1, ax2) = plt.subplots(2, 1, sharex=True, sharey=True)\n",
        "sns.distplot(data['2012']['INCIDENT_DATE'], ax=ax1, bins = 10)\n",
        "sns.distplot(data['2013']['INCIDENT_DATE'], ax=ax2, bins = 10)\n",
        "ax1.set_title('Wildlife Strike Incidents 2012')\n",
        "ax2.set_title('Wildlife Strike Incidents 2013')\n",
        "ax1.set_xlabel('')\n",
        "ax2.set_xlabel('')\n",
        "plt.show()"
      ],
      "execution_count": 72,
      "outputs": [
        {
          "output_type": "display_data",
          "data": {
            "image/png": "[encoded data removed]",
            "text/plain": [
              "<Figure size 432x288 with 2 Axes>"
            ]
          },
          "metadata": {
            "tags": []
          }
        }
      ]
    },
    {
      "cell_type": "markdown",
      "metadata": {
        "id": "V5ZGwgMPCoGs",
        "colab_type": "text"
      },
      "source": [
        "## Hypothesis testing\n",
        "Let's asume that the Federal Aviation Administration launched a new Wildlife Strike Prevention Program in 2013. We want to know if there is a significant decline in the number of daily strike incidents in 2013 as opposed to 2012. This forms our operational definition. We choose an alpha level of .05 as our level of significance. A probability smaller than the alpha level leads to rejecting the null hypothesis."
      ]
    },
    {
      "cell_type": "code",
      "metadata": {
        "id": "tyemRKCbCVb_",
        "colab_type": "code",
        "colab": {
          "base_uri": "https://localhost:8080/",
          "height": 34
        },
        "outputId": "1df90055-f460-4182-ee01-0aec89ac34d2"
      },
      "source": [
        "\n",
        "# We assume stats from the wildlife strike incidents in 2012\n",
        "# to be our population parameters\n",
        "mu = data['2012']['INCIDENT_DATE'].mean()\n",
        "sigma = data['2012']['INCIDENT_DATE'].std()\n",
        "mu, sigma"
      ],
      "execution_count": 74,
      "outputs": [
        {
          "output_type": "execute_result",
          "data": {
            "text/plain": [
              "(2.5546448087431695, 1.6818182461905788)"
            ]
          },
          "metadata": {
            "tags": []
          },
          "execution_count": 74
        }
      ]
    },
    {
      "cell_type": "code",
      "metadata": {
        "id": "d7OtH0-zCyaA",
        "colab_type": "code",
        "colab": {
          "base_uri": "https://localhost:8080/",
          "height": 34
        },
        "outputId": "0a5f0b07-ca3b-4db8-956d-acbe14330f4f"
      },
      "source": [
        "xbar = data['2013']['INCIDENT_DATE'].mean()\n",
        "xbar"
      ],
      "execution_count": 76,
      "outputs": [
        {
          "output_type": "execute_result",
          "data": {
            "text/plain": [
              "2.4328767123287673"
            ]
          },
          "metadata": {
            "tags": []
          },
          "execution_count": 76
        }
      ]
    },
    {
      "cell_type": "code",
      "metadata": {
        "id": "_YCaVtjDC9Vf",
        "colab_type": "code",
        "colab": {
          "base_uri": "https://localhost:8080/",
          "height": 34
        },
        "outputId": "9b8b6719-a797-46e8-a23b-c60272503dbf"
      },
      "source": [
        "# What is our sample size\n",
        "n = data['2013']['INCIDENT_DATE'].count()\n",
        "n\n"
      ],
      "execution_count": 77,
      "outputs": [
        {
          "output_type": "execute_result",
          "data": {
            "text/plain": [
              "365"
            ]
          },
          "metadata": {
            "tags": []
          },
          "execution_count": 77
        }
      ]
    },
    {
      "cell_type": "code",
      "metadata": {
        "id": "Su7wvZp0DFgJ",
        "colab_type": "code",
        "colab": {
          "base_uri": "https://localhost:8080/",
          "height": 34
        },
        "outputId": "891b362e-4379-4bc6-b48e-9b81b0391ac8"
      },
      "source": [
        "# Calculate the standard error\n",
        "SE = sigma / n**0.5\n",
        "SE"
      ],
      "execution_count": 79,
      "outputs": [
        {
          "output_type": "execute_result",
          "data": {
            "text/plain": [
              "0.08803039035048665"
            ]
          },
          "metadata": {
            "tags": []
          },
          "execution_count": 79
        }
      ]
    },
    {
      "cell_type": "code",
      "metadata": {
        "id": "Yef-d6CgDH1X",
        "colab_type": "code",
        "colab": {
          "base_uri": "https://localhost:8080/",
          "height": 34
        },
        "outputId": "72e2eec0-af0d-49c9-b353-40a7d2aff38a"
      },
      "source": [
        "# Calculate the z score for the mean of 2013 (xbar)\n",
        "zscore = (xbar - mu) / SE\n",
        "zscore"
      ],
      "execution_count": 80,
      "outputs": [
        {
          "output_type": "execute_result",
          "data": {
            "text/plain": [
              "-1.3832506697924571"
            ]
          },
          "metadata": {
            "tags": []
          },
          "execution_count": 80
        }
      ]
    },
    {
      "cell_type": "code",
      "metadata": {
        "id": "mvEDjbD-DTdf",
        "colab_type": "code",
        "colab": {
          "base_uri": "https://localhost:8080/",
          "height": 34
        },
        "outputId": "03408ad8-a92e-4bf1-899c-f6ec4b0a4952"
      },
      "source": [
        "# Calculate the critical value of the alpha level on one side of the\n",
        "# distribution, because we're only intrested in a mean decline\n",
        "alpha = .05\n",
        "critical_value = stats.norm.ppf(alpha)\n",
        "critical_value"
      ],
      "execution_count": 81,
      "outputs": [
        {
          "output_type": "execute_result",
          "data": {
            "text/plain": [
              "-1.6448536269514729"
            ]
          },
          "metadata": {
            "tags": []
          },
          "execution_count": 81
        }
      ]
    },
    {
      "cell_type": "code",
      "metadata": {
        "id": "3zBsPjk_DXDk",
        "colab_type": "code",
        "colab": {
          "base_uri": "https://localhost:8080/",
          "height": 265
        },
        "outputId": "d3c13426-8094-4aaa-ce94-27813012a30a"
      },
      "source": [
        "# Plot the normal distribution\n",
        "samples = 100\n",
        "x_plot = np.linspace(-3.5, 3.5, samples)\n",
        "y_plot = stats.norm.pdf(x_plot, 0, 1)\n",
        "plt.plot(x_plot, y_plot)\n",
        "\n",
        "# Plot the critical region\n",
        "x_crit = np.linspace(-3.5, critical_value, samples)\n",
        "y_crit = stats.norm.pdf(x_crit, 0, 1)\n",
        "plt.fill_between(x_crit,  y_crit, alpha=.5)\n",
        "\n",
        "# Plot the z score\n",
        "plt.plot([zscore, zscore], [0, stats.norm.pdf(zscore)])\n",
        "\n",
        "# Show legend\n",
        "plt.legend(['critical region', 'z score'])\n",
        "plt.show()"
      ],
      "execution_count": 85,
      "outputs": [
        {
          "output_type": "display_data",
          "data": {
            "image/png": "[encoded data removed]",
            "text/plain": [
              "<Figure size 432x288 with 1 Axes>"
            ]
          },
          "metadata": {
            "tags": []
          }
        }
      ]
    },
    {
      "cell_type": "code",
      "metadata": {
        "id": "xIVUMgo_D5hl",
        "colab_type": "code",
        "colab": {
          "base_uri": "https://localhost:8080/",
          "height": 34
        },
        "outputId": "f670a291-9938-4d2a-d36b-d48f44133893"
      },
      "source": [
        "# So given these values let's test the alternative hypothesis\n",
        "zscore < critical_value"
      ],
      "execution_count": 86,
      "outputs": [
        {
          "output_type": "execute_result",
          "data": {
            "text/plain": [
              "False"
            ]
          },
          "metadata": {
            "tags": []
          },
          "execution_count": 86
        }
      ]
    },
    {
      "cell_type": "code",
      "metadata": {
        "id": "FIPPXssBE5vg",
        "colab_type": "code",
        "colab": {
          "base_uri": "https://localhost:8080/",
          "height": 34
        },
        "outputId": "a8f4cdba-8d4d-418a-85d8-8197ea84652e"
      },
      "source": [
        "\n",
        "# The probability of drawing this sample mean is about 8%\n",
        "p = stats.norm.cdf(zscore)\n",
        "p"
      ],
      "execution_count": 87,
      "outputs": [
        {
          "output_type": "execute_result",
          "data": {
            "text/plain": [
              "0.083294009028341"
            ]
          },
          "metadata": {
            "tags": []
          },
          "execution_count": 87
        }
      ]
    },
    {
      "cell_type": "markdown",
      "metadata": {
        "id": "fHWUwoCbEyjh",
        "colab_type": "text"
      },
      "source": [
        "This means we could have drawn a mean sample xbar from the real population pure by random chance, therefore we fail to reject the null hypothesis. In other words, there is no significant difference of average daily strike incidents between 2013 and 2012."
      ]
    },
    {
      "cell_type": "markdown",
      "metadata": {
        "id": "D0WtB1V9FEsl",
        "colab_type": "text"
      },
      "source": [
        "## Exploring t-test and Cohen's d effect"
      ]
    },
    {
      "cell_type": "code",
      "metadata": {
        "id": "n49C1JLPFAie",
        "colab_type": "code",
        "colab": {
          "base_uri": "https://localhost:8080/",
          "height": 119
        },
        "outputId": "7a3b1cc9-9ced-48e7-f2a6-e068f66dfd43"
      },
      "source": [
        "# data = np.random.random_sample(25) * 360000 + 100000 / floor it\n",
        "housing_prices = pd.Series(\n",
        "    [319711.,  289066.,  212512.,  195347.,  245589.,  418577., \n",
        "     301112.,  327251.,  434408.,  224529.,  450276.,  423406.,\n",
        "     230321.,  275374.,  215945.,  209971.,  322661.,  292517.,\n",
        "     378317.,  194028.,  347261.,  104542.,  231457.,  335174.,  \n",
        "     369656.])\n",
        "housing_prices.head()"
      ],
      "execution_count": 88,
      "outputs": [
        {
          "output_type": "execute_result",
          "data": {
            "text/plain": [
              "0    319711.0\n",
              "1    289066.0\n",
              "2    212512.0\n",
              "3    195347.0\n",
              "4    245589.0\n",
              "dtype: float64"
            ]
          },
          "metadata": {
            "tags": []
          },
          "execution_count": 88
        }
      ]
    },
    {
      "cell_type": "code",
      "metadata": {
        "id": "RdcTCDz2FJX7",
        "colab_type": "code",
        "colab": {
          "base_uri": "https://localhost:8080/",
          "height": 293
        },
        "outputId": "6945c97f-fa89-4058-c789-2acce5d2ff5d"
      },
      "source": [
        "sns.distplot(housing_prices)"
      ],
      "execution_count": 89,
      "outputs": [
        {
          "output_type": "execute_result",
          "data": {
            "text/plain": [
              "<matplotlib.axes._subplots.AxesSubplot at 0x7f041a359f98>"
            ]
          },
          "metadata": {
            "tags": []
          },
          "execution_count": 89
        },
        {
          "output_type": "display_data",
          "data": {
            "image/png": "[encoded data removed]",
            "text/plain": [
              "<Figure size 432x288 with 1 Axes>"
            ]
          },
          "metadata": {
            "tags": []
          }
        }
      ]
    },
    {
      "cell_type": "markdown",
      "metadata": {
        "id": "z3hSkgWNFVB2",
        "colab_type": "text"
      },
      "source": [
        "##Hypothesis\n",
        "We want to know if there is a significant difference in the mean housing price, compared to the average price of a house in our country. The latter has a mean of $\\mu=289.100$. We choose as our test criterium an alpha level of 5%. So our hypothesis states:"
      ]
    },
    {
      "cell_type": "code",
      "metadata": {
        "id": "eQ0Q8qRVFL3U",
        "colab_type": "code",
        "colab": {
          "base_uri": "https://localhost:8080/",
          "height": 34
        },
        "outputId": "3dd94894-3d89-481d-9802-270261275d60"
      },
      "source": [
        "# The mean housing price is a given\n",
        "mu = 289100.\n",
        "mu"
      ],
      "execution_count": 90,
      "outputs": [
        {
          "output_type": "execute_result",
          "data": {
            "text/plain": [
              "289100.0"
            ]
          },
          "metadata": {
            "tags": []
          },
          "execution_count": 90
        }
      ]
    },
    {
      "cell_type": "code",
      "metadata": {
        "id": "2D7FecFrFgWT",
        "colab_type": "code",
        "colab": {
          "base_uri": "https://localhost:8080/",
          "height": 34
        },
        "outputId": "2708fcf6-2f09-4ea5-f5bb-7f53bf5a5ae3"
      },
      "source": [
        "# The sample statistics\n",
        "n = housing_prices.count()\n",
        "xbar = housing_prices.mean()\n",
        "s = housing_prices.std(ddof=1)\n",
        "n, xbar, s\n"
      ],
      "execution_count": 91,
      "outputs": [
        {
          "output_type": "execute_result",
          "data": {
            "text/plain": [
              "(25, 293960.32, 88348.43221383916)"
            ]
          },
          "metadata": {
            "tags": []
          },
          "execution_count": 91
        }
      ]
    },
    {
      "cell_type": "code",
      "metadata": {
        "id": "oSq9E1x-FlPG",
        "colab_type": "code",
        "colab": {
          "base_uri": "https://localhost:8080/",
          "height": 34
        },
        "outputId": "ec9fe34d-3f90-4adf-e30b-4397a85f275e"
      },
      "source": [
        "# Show the mean difference\n",
        "xbar - mu"
      ],
      "execution_count": 92,
      "outputs": [
        {
          "output_type": "execute_result",
          "data": {
            "text/plain": [
              "4860.320000000007"
            ]
          },
          "metadata": {
            "tags": []
          },
          "execution_count": 92
        }
      ]
    },
    {
      "cell_type": "markdown",
      "metadata": {
        "id": "PXwnU1FGF5Dl",
        "colab_type": "text"
      },
      "source": [
        "##The t-distribution\n",
        "Since we don't know the standard deviation of the population, we can't use the the standard normal distribution to perform our hypothesis test. If we don't know this population parameter we us the t-distribution. \n"
      ]
    },
    {
      "cell_type": "code",
      "metadata": {
        "id": "clbXzo9HF2ym",
        "colab_type": "code",
        "colab": {
          "base_uri": "https://localhost:8080/",
          "height": 265
        },
        "outputId": "b46fe307-6358-4c63-cb19-5152d39a9c25"
      },
      "source": [
        "# Plot the normal distribution\n",
        "samples = 100\n",
        "dof = 2\n",
        "x_plot = np.linspace(-4, 4, samples)\n",
        "y_plot = stats.norm.pdf(x_plot, 0, 1)\n",
        "plt.plot(x_plot, y_plot)\n",
        "\n",
        "x_plot = np.linspace(-4, 4, samples)\n",
        "y_plot = stats.t.pdf(x_plot, dof)\n",
        "plt.plot(x_plot, y_plot)\n",
        "\n",
        "# Show legend\n",
        "plt.legend(['normal distribution', 't-distribution (df=2)'])\n",
        "plt.show()"
      ],
      "execution_count": 93,
      "outputs": [
        {
          "output_type": "display_data",
          "data": {
            "image/png": "[encoded data removed]",
            "text/plain": [
              "<Figure size 432x288 with 1 Axes>"
            ]
          },
          "metadata": {
            "tags": []
          }
        }
      ]
    },
    {
      "cell_type": "markdown",
      "metadata": {
        "id": "TNDFW1yIGKec",
        "colab_type": "text"
      },
      "source": [
        "## The one-sample t-test"
      ]
    },
    {
      "cell_type": "code",
      "metadata": {
        "id": "agsBTOqKF7wp",
        "colab_type": "code",
        "colab": {
          "base_uri": "https://localhost:8080/",
          "height": 34
        },
        "outputId": "46897cef-3fcd-4be2-c947-3d89a44fa327"
      },
      "source": [
        "\n",
        "# Calculate the t-statistic for the sample mean\n",
        "se = s / n**0.5\n",
        "t_statistic = (xbar - mu) / se\n",
        "t_statistic"
      ],
      "execution_count": 94,
      "outputs": [
        {
          "output_type": "execute_result",
          "data": {
            "text/plain": [
              "0.2750654356964737"
            ]
          },
          "metadata": {
            "tags": []
          },
          "execution_count": 94
        }
      ]
    },
    {
      "cell_type": "code",
      "metadata": {
        "id": "al-xsf2KGcFk",
        "colab_type": "code",
        "colab": {
          "base_uri": "https://localhost:8080/",
          "height": 34
        },
        "outputId": "de7f7352-fc6d-434d-ff36-806cbd49cc9d"
      },
      "source": [
        "# What is the probability of getting this mean?\n",
        "p = stats.t.sf(t_statistic, dof) * 2. # two-sided test \n",
        "p"
      ],
      "execution_count": 95,
      "outputs": [
        {
          "output_type": "execute_result",
          "data": {
            "text/plain": [
              "0.8090771938198835"
            ]
          },
          "metadata": {
            "tags": []
          },
          "execution_count": 95
        }
      ]
    },
    {
      "cell_type": "code",
      "metadata": {
        "id": "NTVphtOnGg0C",
        "colab_type": "code",
        "colab": {
          "base_uri": "https://localhost:8080/",
          "height": 34
        },
        "outputId": "4a211fa2-8f0f-46d4-9666-d3d90b94f172"
      },
      "source": [
        "# To test our alternative hypothesis\n",
        "alpha = .05\n",
        "p < alpha / 2 #two sided"
      ],
      "execution_count": 96,
      "outputs": [
        {
          "output_type": "execute_result",
          "data": {
            "text/plain": [
              "False"
            ]
          },
          "metadata": {
            "tags": []
          },
          "execution_count": 96
        }
      ]
    },
    {
      "cell_type": "markdown",
      "metadata": {
        "id": "kyPA17hEGkAo",
        "colab_type": "text"
      },
      "source": [
        "\n",
        "So we fail to reject the null hypothesis. A mean difference of 4860.32 in housing prices between our neigbourhood and the whole country is not significant."
      ]
    },
    {
      "cell_type": "code",
      "metadata": {
        "id": "AmBK9vaHGkW9",
        "colab_type": "code",
        "colab": {}
      },
      "source": [
        ""
      ],
      "execution_count": 0,
      "outputs": []
    }
  ]
}