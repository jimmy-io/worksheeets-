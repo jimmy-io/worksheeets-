{
  "nbformat": 4,
  "nbformat_minor": 0,
  "metadata": {
    "colab": {
      "name": "python_stats_4.ipynb",
      "provenance": [],
      "authorship_tag": "ABX9TyNN4p/T/sNy3soQFodSsja3",
      "include_colab_link": true
    },
    "kernelspec": {
      "name": "python3",
      "display_name": "Python 3"
    }
  },
  "cells": [
    {
      "cell_type": "markdown",
      "metadata": {
        "id": "view-in-github",
        "colab_type": "text"
      },
      "source": [
        "<a href=\"https://colab.research.google.com/github/jimmy-io/worksheeets-/blob/master/python_stats_4.ipynb\" target=\"_parent\"><img src=\"https://colab.research.google.com/assets/colab-badge.svg\" alt=\"Open In Colab\"/></a>"
      ]
    },
    {
      "cell_type": "code",
      "metadata": {
        "id": "D6acOY0kI4qQ",
        "colab_type": "code",
        "colab": {
          "base_uri": "https://localhost:8080/",
          "height": 51
        },
        "outputId": "6d47e269-8f93-439b-d4b0-e6f80eaac7c0"
      },
      "source": [
        "%matplotlib inline\n",
        "import numpy as np\n",
        "import pandas as pd\n",
        "import scipy\n",
        "import matplotlib.pyplot as plt\n",
        "import seaborn as sns\n",
        "from scipy import stats\n",
        "import math\n",
        "from __future__ import division\n",
        "\n"
      ],
      "execution_count": 3,
      "outputs": [
        {
          "output_type": "stream",
          "text": [
            "/usr/local/lib/python3.6/dist-packages/statsmodels/tools/_testing.py:19: FutureWarning: pandas.util.testing is deprecated. Use the functions in the public API at pandas.testing instead.\n",
            "  import pandas.util.testing as tm\n"
          ],
          "name": "stderr"
        }
      ]
    },
    {
      "cell_type": "markdown",
      "metadata": {
        "id": "ft7oLTyeNBP-",
        "colab_type": "text"
      },
      "source": [
        "## Mann - Whitney U test"
      ]
    },
    {
      "cell_type": "code",
      "metadata": {
        "id": "ZdKS-nYVM8_3",
        "colab_type": "code",
        "colab": {
          "base_uri": "https://localhost:8080/",
          "height": 51
        },
        "outputId": "efeb7d7f-72e1-4445-8434-b444dee0605d"
      },
      "source": [
        "from numpy.random import seed\n",
        "from numpy.random import randn\n",
        "from scipy.stats import mannwhitneyu\n",
        "# seed the random number generator\n",
        "seed(1)\n",
        "# generate two independent samples\n",
        "data1 = 5 * randn(100) + 50\n",
        "data2 = 5 * randn(100) + 51\n",
        "# compare samples\n",
        "stat, p = mannwhitneyu(data1, data2)\n",
        "print('Statistics=%.3f, p=%.3f' % (stat, p))\n",
        "# interpret\n",
        "alpha = 0.05\n",
        "if p > alpha:\n",
        "\tprint('Same distribution (fail to reject H0)')\n",
        "else:\n",
        "\tprint('Different distribution (reject H0)')"
      ],
      "execution_count": 1,
      "outputs": [
        {
          "output_type": "stream",
          "text": [
            "Statistics=4025.000, p=0.009\n",
            "Different distribution (reject H0)\n"
          ],
          "name": "stdout"
        }
      ]
    },
    {
      "cell_type": "code",
      "metadata": {
        "id": "zEekN8KCOtIV",
        "colab_type": "code",
        "colab": {
          "base_uri": "https://localhost:8080/",
          "height": 51
        },
        "outputId": "f953377c-4d95-40c5-bf37-870bab7b0030"
      },
      "source": [
        "# Wilcoxon signed-rank test\n",
        "from numpy.random import seed\n",
        "from numpy.random import randn\n",
        "from scipy.stats import wilcoxon\n",
        "# seed the random number generator\n",
        "seed(1)\n",
        "# generate two independent samples\n",
        "data1 = 5 * randn(100) + 50\n",
        "data2 = 5 * randn(100) + 51\n",
        "# compare samples\n",
        "stat, p = wilcoxon(data1, data2)\n",
        "print('Statistics=%.3f, p=%.3f' % (stat, p))\n",
        "# interpret\n",
        "alpha = 0.05\n",
        "if p > alpha:\n",
        "\tprint('Same distribution (fail to reject H0)')\n",
        "else:\n",
        "\tprint('Different distribution (reject H0)')"
      ],
      "execution_count": 2,
      "outputs": [
        {
          "output_type": "stream",
          "text": [
            "Statistics=1886.000, p=0.028\n",
            "Different distribution (reject H0)\n"
          ],
          "name": "stdout"
        }
      ]
    },
    {
      "cell_type": "markdown",
      "metadata": {
        "id": "2_DgP905QvgB",
        "colab_type": "text"
      },
      "source": [
        "## Paired Samples t-Test on Women's Shoes"
      ]
    },
    {
      "cell_type": "code",
      "metadata": {
        "id": "zl9r-54VQyGj",
        "colab_type": "code",
        "colab": {
          "base_uri": "https://localhost:8080/",
          "height": 204
        },
        "outputId": "eb890e6a-e4bb-4321-c3d2-60d0e7a3e21e"
      },
      "source": [
        "high_heels = pd.Series(\n",
        "    [189158.,  192110.,  176194.,  156349.,  161981.,  152096.,\n",
        "     168058.,  156401.,  174939.,  170711.,  170485.,  150565.,\n",
        "     167770.,  157289.,  191459.,  160661.,  190667.,  184006.,  174503.])\n",
        "flat_shoes = pd.Series(\n",
        "    [188777.,  196981.,  190510.,  184603.,  192341.,  197897.,\n",
        "     154040.,  168098.,  192263.,  154085.,  176084.,  189249.,\n",
        "     176291.,  151454.,  198118.,  162959.,  167480.,  159884.,  184386.])\n",
        "\n",
        "data = pd.DataFrame({'high': high_heels, 'flat': flat_shoes})\n",
        "data.head()"
      ],
      "execution_count": 4,
      "outputs": [
        {
          "output_type": "execute_result",
          "data": {
            "text/html": [
              "<div>\n",
              "<style scoped>\n",
              "    .dataframe tbody tr th:only-of-type {\n",
              "        vertical-align: middle;\n",
              "    }\n",
              "\n",
              "    .dataframe tbody tr th {\n",
              "        vertical-align: top;\n",
              "    }\n",
              "\n",
              "    .dataframe thead th {\n",
              "        text-align: right;\n",
              "    }\n",
              "</style>\n",
              "<table border=\"1\" class=\"dataframe\">\n",
              "  <thead>\n",
              "    <tr style=\"text-align: right;\">\n",
              "      <th></th>\n",
              "      <th>high</th>\n",
              "      <th>flat</th>\n",
              "    </tr>\n",
              "  </thead>\n",
              "  <tbody>\n",
              "    <tr>\n",
              "      <th>0</th>\n",
              "      <td>189158.0</td>\n",
              "      <td>188777.0</td>\n",
              "    </tr>\n",
              "    <tr>\n",
              "      <th>1</th>\n",
              "      <td>192110.0</td>\n",
              "      <td>196981.0</td>\n",
              "    </tr>\n",
              "    <tr>\n",
              "      <th>2</th>\n",
              "      <td>176194.0</td>\n",
              "      <td>190510.0</td>\n",
              "    </tr>\n",
              "    <tr>\n",
              "      <th>3</th>\n",
              "      <td>156349.0</td>\n",
              "      <td>184603.0</td>\n",
              "    </tr>\n",
              "    <tr>\n",
              "      <th>4</th>\n",
              "      <td>161981.0</td>\n",
              "      <td>192341.0</td>\n",
              "    </tr>\n",
              "  </tbody>\n",
              "</table>\n",
              "</div>"
            ],
            "text/plain": [
              "       high      flat\n",
              "0  189158.0  188777.0\n",
              "1  192110.0  196981.0\n",
              "2  176194.0  190510.0\n",
              "3  156349.0  184603.0\n",
              "4  161981.0  192341.0"
            ]
          },
          "metadata": {
            "tags": []
          },
          "execution_count": 4
        }
      ]
    },
    {
      "cell_type": "code",
      "metadata": {
        "id": "K5gNdcBsZRtD",
        "colab_type": "code",
        "colab": {
          "base_uri": "https://localhost:8080/",
          "height": 307
        },
        "outputId": "611a9b09-29b6-4717-810a-9274bb909cb2"
      },
      "source": [
        "sns.distplot(data['high'], bins = 10)\n",
        "sns.distplot(data['flat'], bins = 10)"
      ],
      "execution_count": 14,
      "outputs": [
        {
          "output_type": "execute_result",
          "data": {
            "text/plain": [
              "<matplotlib.axes._subplots.AxesSubplot at 0x7f9c083a3898>"
            ]
          },
          "metadata": {
            "tags": []
          },
          "execution_count": 14
        },
        {
          "output_type": "display_data",
          "data": {
            "image/png": "[encoded data removed]",
            "text/plain": [
              "<Figure size 432x288 with 1 Axes>"
            ]
          },
          "metadata": {
            "tags": []
          }
        }
      ]
    },
    {
      "cell_type": "code",
      "metadata": {
        "id": "E9vUIeWKZTJ9",
        "colab_type": "code",
        "colab": {
          "base_uri": "https://localhost:8080/",
          "height": 297
        },
        "outputId": "900d0d8a-d904-43b5-d163-12c20072e962"
      },
      "source": [
        "data.describe()"
      ],
      "execution_count": 16,
      "outputs": [
        {
          "output_type": "execute_result",
          "data": {
            "text/html": [
              "<div>\n",
              "<style scoped>\n",
              "    .dataframe tbody tr th:only-of-type {\n",
              "        vertical-align: middle;\n",
              "    }\n",
              "\n",
              "    .dataframe tbody tr th {\n",
              "        vertical-align: top;\n",
              "    }\n",
              "\n",
              "    .dataframe thead th {\n",
              "        text-align: right;\n",
              "    }\n",
              "</style>\n",
              "<table border=\"1\" class=\"dataframe\">\n",
              "  <thead>\n",
              "    <tr style=\"text-align: right;\">\n",
              "      <th></th>\n",
              "      <th>high</th>\n",
              "      <th>flat</th>\n",
              "    </tr>\n",
              "  </thead>\n",
              "  <tbody>\n",
              "    <tr>\n",
              "      <th>count</th>\n",
              "      <td>19.000000</td>\n",
              "      <td>19.000000</td>\n",
              "    </tr>\n",
              "    <tr>\n",
              "      <th>mean</th>\n",
              "      <td>170810.631579</td>\n",
              "      <td>178184.210526</td>\n",
              "    </tr>\n",
              "    <tr>\n",
              "      <th>std</th>\n",
              "      <td>13748.423232</td>\n",
              "      <td>16113.058647</td>\n",
              "    </tr>\n",
              "    <tr>\n",
              "      <th>min</th>\n",
              "      <td>150565.000000</td>\n",
              "      <td>151454.000000</td>\n",
              "    </tr>\n",
              "    <tr>\n",
              "      <th>25%</th>\n",
              "      <td>158975.000000</td>\n",
              "      <td>165219.500000</td>\n",
              "    </tr>\n",
              "    <tr>\n",
              "      <th>50%</th>\n",
              "      <td>170485.000000</td>\n",
              "      <td>184386.000000</td>\n",
              "    </tr>\n",
              "    <tr>\n",
              "      <th>75%</th>\n",
              "      <td>180100.000000</td>\n",
              "      <td>191386.500000</td>\n",
              "    </tr>\n",
              "    <tr>\n",
              "      <th>max</th>\n",
              "      <td>192110.000000</td>\n",
              "      <td>198118.000000</td>\n",
              "    </tr>\n",
              "  </tbody>\n",
              "</table>\n",
              "</div>"
            ],
            "text/plain": [
              "                high           flat\n",
              "count      19.000000      19.000000\n",
              "mean   170810.631579  178184.210526\n",
              "std     13748.423232   16113.058647\n",
              "min    150565.000000  151454.000000\n",
              "25%    158975.000000  165219.500000\n",
              "50%    170485.000000  184386.000000\n",
              "75%    180100.000000  191386.500000\n",
              "max    192110.000000  198118.000000"
            ]
          },
          "metadata": {
            "tags": []
          },
          "execution_count": 16
        }
      ]
    },
    {
      "cell_type": "code",
      "metadata": {
        "id": "hJiFeY0WZ0UO",
        "colab_type": "code",
        "colab": {
          "base_uri": "https://localhost:8080/",
          "height": 204
        },
        "outputId": "c08985dc-1dc4-47c5-a2d3-fcff6b5df7da"
      },
      "source": [
        "data['difference'] = data.high - data.flat\n",
        "data.head()"
      ],
      "execution_count": 17,
      "outputs": [
        {
          "output_type": "execute_result",
          "data": {
            "text/html": [
              "<div>\n",
              "<style scoped>\n",
              "    .dataframe tbody tr th:only-of-type {\n",
              "        vertical-align: middle;\n",
              "    }\n",
              "\n",
              "    .dataframe tbody tr th {\n",
              "        vertical-align: top;\n",
              "    }\n",
              "\n",
              "    .dataframe thead th {\n",
              "        text-align: right;\n",
              "    }\n",
              "</style>\n",
              "<table border=\"1\" class=\"dataframe\">\n",
              "  <thead>\n",
              "    <tr style=\"text-align: right;\">\n",
              "      <th></th>\n",
              "      <th>high</th>\n",
              "      <th>flat</th>\n",
              "      <th>difference</th>\n",
              "    </tr>\n",
              "  </thead>\n",
              "  <tbody>\n",
              "    <tr>\n",
              "      <th>0</th>\n",
              "      <td>189158.0</td>\n",
              "      <td>188777.0</td>\n",
              "      <td>381.0</td>\n",
              "    </tr>\n",
              "    <tr>\n",
              "      <th>1</th>\n",
              "      <td>192110.0</td>\n",
              "      <td>196981.0</td>\n",
              "      <td>-4871.0</td>\n",
              "    </tr>\n",
              "    <tr>\n",
              "      <th>2</th>\n",
              "      <td>176194.0</td>\n",
              "      <td>190510.0</td>\n",
              "      <td>-14316.0</td>\n",
              "    </tr>\n",
              "    <tr>\n",
              "      <th>3</th>\n",
              "      <td>156349.0</td>\n",
              "      <td>184603.0</td>\n",
              "      <td>-28254.0</td>\n",
              "    </tr>\n",
              "    <tr>\n",
              "      <th>4</th>\n",
              "      <td>161981.0</td>\n",
              "      <td>192341.0</td>\n",
              "      <td>-30360.0</td>\n",
              "    </tr>\n",
              "  </tbody>\n",
              "</table>\n",
              "</div>"
            ],
            "text/plain": [
              "       high      flat  difference\n",
              "0  189158.0  188777.0       381.0\n",
              "1  192110.0  196981.0     -4871.0\n",
              "2  176194.0  190510.0    -14316.0\n",
              "3  156349.0  184603.0    -28254.0\n",
              "4  161981.0  192341.0    -30360.0"
            ]
          },
          "metadata": {
            "tags": []
          },
          "execution_count": 17
        }
      ]
    },
    {
      "cell_type": "code",
      "metadata": {
        "id": "W1VKfKL-Z75w",
        "colab_type": "code",
        "colab": {
          "base_uri": "https://localhost:8080/",
          "height": 34
        },
        "outputId": "220a5e05-a983-4210-b31c-f16776608acb"
      },
      "source": [
        "u = data['difference'].mean() \n",
        "s = data['difference'].std()\n",
        "u, s"
      ],
      "execution_count": 19,
      "outputs": [
        {
          "output_type": "execute_result",
          "data": {
            "text/plain": [
              "(-7373.578947368421, 19471.738275755768)"
            ]
          },
          "metadata": {
            "tags": []
          },
          "execution_count": 19
        }
      ]
    },
    {
      "cell_type": "code",
      "metadata": {
        "id": "THf6s5TBaC-G",
        "colab_type": "code",
        "colab": {
          "base_uri": "https://localhost:8080/",
          "height": 34
        },
        "outputId": "a416744c-c500-4676-ed58-bbf6f208af38"
      },
      "source": [
        "# Calculate the t-statistic with the point estimate\n",
        "n=len(data)\n",
        "se = s/n**0.5\n",
        "t = u / se \n",
        "n, se, t\n"
      ],
      "execution_count": 22,
      "outputs": [
        {
          "output_type": "execute_result",
          "data": {
            "text/plain": [
              "(19, 4467.123126268016, -1.6506325746898667)"
            ]
          },
          "metadata": {
            "tags": []
          },
          "execution_count": 22
        }
      ]
    },
    {
      "cell_type": "code",
      "metadata": {
        "id": "8kW4gygQaYQm",
        "colab_type": "code",
        "colab": {
          "base_uri": "https://localhost:8080/",
          "height": 34
        },
        "outputId": "d1b63316-9c12-441d-b2aa-b0dd970803aa"
      },
      "source": [
        "ddof = n -1\n",
        "p=stats.t.sf(abs(t),ddof)\n",
        "p"
      ],
      "execution_count": 25,
      "outputs": [
        {
          "output_type": "execute_result",
          "data": {
            "text/plain": [
              "0.05807659459011118"
            ]
          },
          "metadata": {
            "tags": []
          },
          "execution_count": 25
        }
      ]
    },
    {
      "cell_type": "code",
      "metadata": {
        "id": "6H6_MmXaaznZ",
        "colab_type": "code",
        "colab": {
          "base_uri": "https://localhost:8080/",
          "height": 34
        },
        "outputId": "aefc7fbe-923e-4cd9-9596-be968bc9baa9"
      },
      "source": [
        "alpha = .05\n",
        "p < alpha / 2 # two sided"
      ],
      "execution_count": 26,
      "outputs": [
        {
          "output_type": "execute_result",
          "data": {
            "text/plain": [
              "False"
            ]
          },
          "metadata": {
            "tags": []
          },
          "execution_count": 26
        }
      ]
    },
    {
      "cell_type": "code",
      "metadata": {
        "id": "3VbuIo2ja4KY",
        "colab_type": "code",
        "colab": {
          "base_uri": "https://localhost:8080/",
          "height": 34
        },
        "outputId": "afaff473-bc11-4ab4-8263-fde7f57d3931"
      },
      "source": [
        "# A quicker way to perform a dependent t-test is to call the scipy\n",
        "# function ttest_rel on both samples to get our t-statistic and \n",
        "# p value\n",
        "t_statistic, p = stats.ttest_rel(data.high, data.flat)\n",
        "t_statistic, p"
      ],
      "execution_count": 27,
      "outputs": [
        {
          "output_type": "execute_result",
          "data": {
            "text/plain": [
              "(-1.6506325746898667, 0.11615318918022235)"
            ]
          },
          "metadata": {
            "tags": []
          },
          "execution_count": 27
        }
      ]
    },
    {
      "cell_type": "markdown",
      "metadata": {
        "id": "_CrMvZpObB91",
        "colab_type": "text"
      },
      "source": [
        "## Confidence interval"
      ]
    },
    {
      "cell_type": "code",
      "metadata": {
        "id": "E4szqkLxbD9E",
        "colab_type": "code",
        "colab": {
          "base_uri": "https://localhost:8080/",
          "height": 34
        },
        "outputId": "dbce165c-5dd4-4c35-de6d-d66f78bab69d"
      },
      "source": [
        "# Calculate t-critical to use with our confidence interval\n",
        "t_score = abs(stats.t.ppf(alpha / 2, ddof)) # two sided\n",
        "t_score"
      ],
      "execution_count": 29,
      "outputs": [
        {
          "output_type": "execute_result",
          "data": {
            "text/plain": [
              "2.10092204024096"
            ]
          },
          "metadata": {
            "tags": []
          },
          "execution_count": 29
        }
      ]
    },
    {
      "cell_type": "code",
      "metadata": {
        "id": "75VvUx1TcROz",
        "colab_type": "code",
        "colab": {}
      },
      "source": [
        ""
      ],
      "execution_count": 0,
      "outputs": []
    }
  ]
}