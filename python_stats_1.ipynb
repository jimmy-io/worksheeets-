{
  "nbformat": 4,
  "nbformat_minor": 0,
  "metadata": {
    "colab": {
      "name": "python_stats_1.ipynb",
      "provenance": [],
      "mount_file_id": "1D9jBZbmVfHX2jXehGGYIYBfwZ81tO95Z",
      "authorship_tag": "ABX9TyMzLNLPCadhIrl1bVBipT6o",
      "include_colab_link": true
    },
    "kernelspec": {
      "name": "python3",
      "display_name": "Python 3"
    }
  },
  "cells": [
    {
      "cell_type": "markdown",
      "metadata": {
        "id": "view-in-github",
        "colab_type": "text"
      },
      "source": [
        "<a href=\"https://colab.research.google.com/github/jimmy-io/worksheeets-/blob/master/python_stats_1.ipynb\" target=\"_parent\"><img src=\"https://colab.research.google.com/assets/colab-badge.svg\" alt=\"Open In Colab\"/></a>"
      ]
    },
    {
      "cell_type": "code",
      "metadata": {
        "id": "7K7CvufSfzPt",
        "colab_type": "code",
        "colab": {}
      },
      "source": [
        "import pandas as pd\n",
        "import numpy as np\n",
        "from scipy import stats\n",
        "import matplotlib.pyplot as plt"
      ],
      "execution_count": 0,
      "outputs": []
    },
    {
      "cell_type": "code",
      "metadata": {
        "id": "gwSNHXUICIRP",
        "colab_type": "code",
        "outputId": "1d584ad9-dce7-4bca-b8cc-f88375af9432",
        "colab": {
          "base_uri": "https://localhost:8080/",
          "height": 204
        }
      },
      "source": [
        "df = pd.DataFrame({'Billy Beer': [13884, 23008, 17883, 24435, 49938],\n",
        "                   'Lucky Lager': [34565, 83938, 59437, 28843, 48285],\n",
        "                   'Triple Bock': [39987, 35512, 23542, 37729, 36647]})\n",
        "df"
      ],
      "execution_count": 14,
      "outputs": [
        {
          "output_type": "execute_result",
          "data": {
            "text/html": [
              "<div>\n",
              "<style scoped>\n",
              "    .dataframe tbody tr th:only-of-type {\n",
              "        vertical-align: middle;\n",
              "    }\n",
              "\n",
              "    .dataframe tbody tr th {\n",
              "        vertical-align: top;\n",
              "    }\n",
              "\n",
              "    .dataframe thead th {\n",
              "        text-align: right;\n",
              "    }\n",
              "</style>\n",
              "<table border=\"1\" class=\"dataframe\">\n",
              "  <thead>\n",
              "    <tr style=\"text-align: right;\">\n",
              "      <th></th>\n",
              "      <th>Billy Beer</th>\n",
              "      <th>Lucky Lager</th>\n",
              "      <th>Triple Bock</th>\n",
              "    </tr>\n",
              "  </thead>\n",
              "  <tbody>\n",
              "    <tr>\n",
              "      <th>0</th>\n",
              "      <td>13884</td>\n",
              "      <td>34565</td>\n",
              "      <td>39987</td>\n",
              "    </tr>\n",
              "    <tr>\n",
              "      <th>1</th>\n",
              "      <td>23008</td>\n",
              "      <td>83938</td>\n",
              "      <td>35512</td>\n",
              "    </tr>\n",
              "    <tr>\n",
              "      <th>2</th>\n",
              "      <td>17883</td>\n",
              "      <td>59437</td>\n",
              "      <td>23542</td>\n",
              "    </tr>\n",
              "    <tr>\n",
              "      <th>3</th>\n",
              "      <td>24435</td>\n",
              "      <td>28843</td>\n",
              "      <td>37729</td>\n",
              "    </tr>\n",
              "    <tr>\n",
              "      <th>4</th>\n",
              "      <td>49938</td>\n",
              "      <td>48285</td>\n",
              "      <td>36647</td>\n",
              "    </tr>\n",
              "  </tbody>\n",
              "</table>\n",
              "</div>"
            ],
            "text/plain": [
              "   Billy Beer  Lucky Lager  Triple Bock\n",
              "0       13884        34565        39987\n",
              "1       23008        83938        35512\n",
              "2       17883        59437        23542\n",
              "3       24435        28843        37729\n",
              "4       49938        48285        36647"
            ]
          },
          "metadata": {
            "tags": []
          },
          "execution_count": 14
        }
      ]
    },
    {
      "cell_type": "code",
      "metadata": {
        "id": "sQHDII-pCQDq",
        "colab_type": "code",
        "colab": {
          "base_uri": "https://localhost:8080/",
          "height": 204
        },
        "outputId": "6e7e9a0a-06d6-4752-fd9d-4155cd7f69f7"
      },
      "source": [
        "def zscore(series):\n",
        "    result = (series - series.mean()) / series.std()\n",
        "    return result\n",
        "\n",
        "# Call Apply on the highest function\n",
        "df.apply(zscore)"
      ],
      "execution_count": 15,
      "outputs": [
        {
          "output_type": "execute_result",
          "data": {
            "text/html": [
              "<div>\n",
              "<style scoped>\n",
              "    .dataframe tbody tr th:only-of-type {\n",
              "        vertical-align: middle;\n",
              "    }\n",
              "\n",
              "    .dataframe tbody tr th {\n",
              "        vertical-align: top;\n",
              "    }\n",
              "\n",
              "    .dataframe thead th {\n",
              "        text-align: right;\n",
              "    }\n",
              "</style>\n",
              "<table border=\"1\" class=\"dataframe\">\n",
              "  <thead>\n",
              "    <tr style=\"text-align: right;\">\n",
              "      <th></th>\n",
              "      <th>Billy Beer</th>\n",
              "      <th>Lucky Lager</th>\n",
              "      <th>Triple Bock</th>\n",
              "    </tr>\n",
              "  </thead>\n",
              "  <tbody>\n",
              "    <tr>\n",
              "      <th>0</th>\n",
              "      <td>-0.846287</td>\n",
              "      <td>-0.749893</td>\n",
              "      <td>0.823088</td>\n",
              "    </tr>\n",
              "    <tr>\n",
              "      <th>1</th>\n",
              "      <td>-0.199897</td>\n",
              "      <td>1.501026</td>\n",
              "      <td>0.128594</td>\n",
              "    </tr>\n",
              "    <tr>\n",
              "      <th>2</th>\n",
              "      <td>-0.562978</td>\n",
              "      <td>0.384023</td>\n",
              "      <td>-1.729080</td>\n",
              "    </tr>\n",
              "    <tr>\n",
              "      <th>3</th>\n",
              "      <td>-0.098801</td>\n",
              "      <td>-1.010759</td>\n",
              "      <td>0.472659</td>\n",
              "    </tr>\n",
              "    <tr>\n",
              "      <th>4</th>\n",
              "      <td>1.707962</td>\n",
              "      <td>-0.124397</td>\n",
              "      <td>0.304739</td>\n",
              "    </tr>\n",
              "  </tbody>\n",
              "</table>\n",
              "</div>"
            ],
            "text/plain": [
              "   Billy Beer  Lucky Lager  Triple Bock\n",
              "0   -0.846287    -0.749893     0.823088\n",
              "1   -0.199897     1.501026     0.128594\n",
              "2   -0.562978     0.384023    -1.729080\n",
              "3   -0.098801    -1.010759     0.472659\n",
              "4    1.707962    -0.124397     0.304739"
            ]
          },
          "metadata": {
            "tags": []
          },
          "execution_count": 15
        }
      ]
    },
    {
      "cell_type": "code",
      "metadata": {
        "id": "TKSyeXRFEDit",
        "colab_type": "code",
        "colab": {
          "base_uri": "https://localhost:8080/",
          "height": 102
        },
        "outputId": "6f4d3acd-6681-46ce-bf3e-8cdf5112d18a"
      },
      "source": [
        "\n",
        "# The same result values as using scipy stats zscore with\n",
        "# a dynamic degrees of freedom of 1 \n",
        "stats.zscore(df, ddof=1)"
      ],
      "execution_count": 18,
      "outputs": [
        {
          "output_type": "execute_result",
          "data": {
            "text/plain": [
              "array([[-0.84628719, -0.74989281,  0.82308764],\n",
              "       [-0.19989653,  1.50102567,  0.12859386],\n",
              "       [-0.56297765,  0.38402339, -1.72907998],\n",
              "       [-0.09880057, -1.01075918,  0.47265927],\n",
              "       [ 1.70796194, -0.12439706,  0.30473921]])"
            ]
          },
          "metadata": {
            "tags": []
          },
          "execution_count": 18
        }
      ]
    },
    {
      "cell_type": "code",
      "metadata": {
        "id": "Dy67OY1lEbt5",
        "colab_type": "code",
        "colab": {
          "base_uri": "https://localhost:8080/",
          "height": 85
        },
        "outputId": "57a95cfd-e6eb-45a5-c3f5-afd326c24fad"
      },
      "source": [
        "x = np.linspace(0, 10, 500)\n",
        "x[-20:]"
      ],
      "execution_count": 20,
      "outputs": [
        {
          "output_type": "execute_result",
          "data": {
            "text/plain": [
              "array([ 9.61923848,  9.63927856,  9.65931864,  9.67935872,  9.6993988 ,\n",
              "        9.71943888,  9.73947896,  9.75951904,  9.77955912,  9.7995992 ,\n",
              "        9.81963928,  9.83967936,  9.85971944,  9.87975952,  9.8997996 ,\n",
              "        9.91983968,  9.93987976,  9.95991984,  9.97995992, 10.        ])"
            ]
          },
          "metadata": {
            "tags": []
          },
          "execution_count": 20
        }
      ]
    },
    {
      "cell_type": "code",
      "metadata": {
        "id": "X12KBj5qEeMG",
        "colab_type": "code",
        "colab": {
          "base_uri": "https://localhost:8080/",
          "height": 299
        },
        "outputId": "68a31033-61bf-4942-ee4a-29656415d36c"
      },
      "source": [
        "plt.style.use('ggplot')\n",
        "plt.title('GGPlot')\n",
        "plt.xlabel('x-axis')\n",
        "plt.ylabel('y-axis')\n",
        "plt.plot(x, x**8)\n",
        "plt.show()"
      ],
      "execution_count": 22,
      "outputs": [
        {
          "output_type": "display_data",
          "data": {
            "image/png": "[encoded data removed]",
            "text/plain": [
              "<Figure size 432x288 with 1 Axes>"
            ]
          },
          "metadata": {
            "tags": []
          }
        }
      ]
    },
    {
      "cell_type": "code",
      "metadata": {
        "id": "qXyzVI6eEp6t",
        "colab_type": "code",
        "colab": {
          "base_uri": "https://localhost:8080/",
          "height": 359
        },
        "outputId": "420bcab2-40e9-4361-a486-7898f5ef9206"
      },
      "source": [
        "data = pd.DataFrame({'salaries': \n",
        "                     [33219, 36254, 38801, 46335, 46840, \n",
        "                      47596, 55130, 56863, 78070, 88830]})\n",
        "data"
      ],
      "execution_count": 23,
      "outputs": [
        {
          "output_type": "execute_result",
          "data": {
            "text/html": [
              "<div>\n",
              "<style scoped>\n",
              "    .dataframe tbody tr th:only-of-type {\n",
              "        vertical-align: middle;\n",
              "    }\n",
              "\n",
              "    .dataframe tbody tr th {\n",
              "        vertical-align: top;\n",
              "    }\n",
              "\n",
              "    .dataframe thead th {\n",
              "        text-align: right;\n",
              "    }\n",
              "</style>\n",
              "<table border=\"1\" class=\"dataframe\">\n",
              "  <thead>\n",
              "    <tr style=\"text-align: right;\">\n",
              "      <th></th>\n",
              "      <th>salaries</th>\n",
              "    </tr>\n",
              "  </thead>\n",
              "  <tbody>\n",
              "    <tr>\n",
              "      <th>0</th>\n",
              "      <td>33219</td>\n",
              "    </tr>\n",
              "    <tr>\n",
              "      <th>1</th>\n",
              "      <td>36254</td>\n",
              "    </tr>\n",
              "    <tr>\n",
              "      <th>2</th>\n",
              "      <td>38801</td>\n",
              "    </tr>\n",
              "    <tr>\n",
              "      <th>3</th>\n",
              "      <td>46335</td>\n",
              "    </tr>\n",
              "    <tr>\n",
              "      <th>4</th>\n",
              "      <td>46840</td>\n",
              "    </tr>\n",
              "    <tr>\n",
              "      <th>5</th>\n",
              "      <td>47596</td>\n",
              "    </tr>\n",
              "    <tr>\n",
              "      <th>6</th>\n",
              "      <td>55130</td>\n",
              "    </tr>\n",
              "    <tr>\n",
              "      <th>7</th>\n",
              "      <td>56863</td>\n",
              "    </tr>\n",
              "    <tr>\n",
              "      <th>8</th>\n",
              "      <td>78070</td>\n",
              "    </tr>\n",
              "    <tr>\n",
              "      <th>9</th>\n",
              "      <td>88830</td>\n",
              "    </tr>\n",
              "  </tbody>\n",
              "</table>\n",
              "</div>"
            ],
            "text/plain": [
              "   salaries\n",
              "0     33219\n",
              "1     36254\n",
              "2     38801\n",
              "3     46335\n",
              "4     46840\n",
              "5     47596\n",
              "6     55130\n",
              "7     56863\n",
              "8     78070\n",
              "9     88830"
            ]
          },
          "metadata": {
            "tags": []
          },
          "execution_count": 23
        }
      ]
    },
    {
      "cell_type": "code",
      "metadata": {
        "id": "1ezGqRxDFel6",
        "colab_type": "code",
        "colab": {
          "base_uri": "https://localhost:8080/",
          "height": 279
        },
        "outputId": "6fcc5bdb-3709-40de-a218-d47766c93673"
      },
      "source": [
        "data.plot(kind='bar', color='#00A99D', alpha=.5)"
      ],
      "execution_count": 24,
      "outputs": [
        {
          "output_type": "execute_result",
          "data": {
            "text/plain": [
              "<matplotlib.axes._subplots.AxesSubplot at 0x7f33661824e0>"
            ]
          },
          "metadata": {
            "tags": []
          },
          "execution_count": 24
        },
        {
          "output_type": "display_data",
          "data": {
            "image/png": "[encoded data removed]",
            "text/plain": [
              "<Figure size 432x288 with 1 Axes>"
            ]
          },
          "metadata": {
            "tags": []
          }
        }
      ]
    },
    {
      "cell_type": "code",
      "metadata": {
        "id": "3ZSFzCMrFnQB",
        "colab_type": "code",
        "colab": {
          "base_uri": "https://localhost:8080/",
          "height": 34
        },
        "outputId": "8129fd17-1e66-421a-e38d-de5c990b6b33"
      },
      "source": [
        "pop_var = data['salaries'].var(ddof = 0)\n",
        "pop_var"
      ],
      "execution_count": 26,
      "outputs": [
        {
          "output_type": "execute_result",
          "data": {
            "text/plain": [
              "291622740.36"
            ]
          },
          "metadata": {
            "tags": []
          },
          "execution_count": 26
        }
      ]
    },
    {
      "cell_type": "code",
      "metadata": {
        "id": "2csyN2H1FwpL",
        "colab_type": "code",
        "colab": {
          "base_uri": "https://localhost:8080/",
          "height": 34
        },
        "outputId": "2f115721-5cd6-4642-a696-536872fc7670"
      },
      "source": [
        "sam_var = data['salaries'].var(ddof = 1)\n",
        "sam_var"
      ],
      "execution_count": 28,
      "outputs": [
        {
          "output_type": "execute_result",
          "data": {
            "text/plain": [
              "324025267.0666667"
            ]
          },
          "metadata": {
            "tags": []
          },
          "execution_count": 28
        }
      ]
    },
    {
      "cell_type": "code",
      "metadata": {
        "id": "zY6nLxbcF22D",
        "colab_type": "code",
        "colab": {}
      },
      "source": [
        ""
      ],
      "execution_count": 0,
      "outputs": []
    }
  ]
}