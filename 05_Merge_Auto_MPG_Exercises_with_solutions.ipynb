{
  "nbformat": 4,
  "nbformat_minor": 0,
  "metadata": {
    "colab": {
      "name": "05_Merge/Auto_MPG/Exercises_with_solutions.ipynb",
      "provenance": [],
      "authorship_tag": "ABX9TyNRBD9el6/ya+j9vhL9Zncr",
      "include_colab_link": true
    },
    "kernelspec": {
      "name": "python3",
      "display_name": "Python 3"
    }
  },
  "cells": [
    {
      "cell_type": "markdown",
      "metadata": {
        "id": "view-in-github",
        "colab_type": "text"
      },
      "source": [
        "<a href=\"https://colab.research.google.com/github/jimmy-io/worksheeets-/blob/master/05_Merge_Auto_MPG_Exercises_with_solutions.ipynb\" target=\"_parent\"><img src=\"https://colab.research.google.com/assets/colab-badge.svg\" alt=\"Open In Colab\"/></a>"
      ]
    },
    {
      "cell_type": "code",
      "metadata": {
        "id": "j5LV0cio81UG",
        "colab_type": "code",
        "colab": {}
      },
      "source": [
        "import pandas as pd\n",
        "import numpy as np"
      ],
      "execution_count": 0,
      "outputs": []
    },
    {
      "cell_type": "code",
      "metadata": {
        "id": "6L3ceAZU86LE",
        "colab_type": "code",
        "colab": {
          "base_uri": "https://localhost:8080/",
          "height": 289
        },
        "outputId": "c344878b-4ab2-4016-8602-c5345800bb18"
      },
      "source": [
        "cars1 = pd.read_csv(\"https://raw.githubusercontent.com/guipsamora/pandas_exercises/master/05_Merge/Auto_MPG/cars1.csv\")\n",
        "cars2 = pd.read_csv(\"https://raw.githubusercontent.com/guipsamora/pandas_exercises/master/05_Merge/Auto_MPG/cars2.csv\")\n",
        "\n",
        "print(cars1.head())\n",
        "print(cars2.head())"
      ],
      "execution_count": 2,
      "outputs": [
        {
          "output_type": "stream",
          "text": [
            "    mpg  cylinders  displacement  ... Unnamed: 11  Unnamed: 12  Unnamed: 13\n",
            "0  18.0          8           307  ...         NaN          NaN          NaN\n",
            "1  15.0          8           350  ...         NaN          NaN          NaN\n",
            "2  18.0          8           318  ...         NaN          NaN          NaN\n",
            "3  16.0          8           304  ...         NaN          NaN          NaN\n",
            "4  17.0          8           302  ...         NaN          NaN          NaN\n",
            "\n",
            "[5 rows x 14 columns]\n",
            "    mpg  cylinders  displacement  ... model  origin                 car\n",
            "0  33.0          4            91  ...    76       3         honda civic\n",
            "1  20.0          6           225  ...    76       1      dodge aspen se\n",
            "2  18.0          6           250  ...    76       1   ford granada ghia\n",
            "3  18.5          6           250  ...    76       1  pontiac ventura sj\n",
            "4  17.5          6           258  ...    76       1       amc pacer d/l\n",
            "\n",
            "[5 rows x 9 columns]\n"
          ],
          "name": "stdout"
        }
      ]
    },
    {
      "cell_type": "code",
      "metadata": {
        "id": "1Pd9lK2N89Gk",
        "colab_type": "code",
        "colab": {
          "base_uri": "https://localhost:8080/",
          "height": 204
        },
        "outputId": "5dcecfe6-5ee8-4870-af97-c6c42c2fb659"
      },
      "source": [
        "cars1 = cars1.loc[:, \"mpg\":\"car\"]\n",
        "cars1.head()"
      ],
      "execution_count": 3,
      "outputs": [
        {
          "output_type": "execute_result",
          "data": {
            "text/html": [
              "<div>\n",
              "<style scoped>\n",
              "    .dataframe tbody tr th:only-of-type {\n",
              "        vertical-align: middle;\n",
              "    }\n",
              "\n",
              "    .dataframe tbody tr th {\n",
              "        vertical-align: top;\n",
              "    }\n",
              "\n",
              "    .dataframe thead th {\n",
              "        text-align: right;\n",
              "    }\n",
              "</style>\n",
              "<table border=\"1\" class=\"dataframe\">\n",
              "  <thead>\n",
              "    <tr style=\"text-align: right;\">\n",
              "      <th></th>\n",
              "      <th>mpg</th>\n",
              "      <th>cylinders</th>\n",
              "      <th>displacement</th>\n",
              "      <th>horsepower</th>\n",
              "      <th>weight</th>\n",
              "      <th>acceleration</th>\n",
              "      <th>model</th>\n",
              "      <th>origin</th>\n",
              "      <th>car</th>\n",
              "    </tr>\n",
              "  </thead>\n",
              "  <tbody>\n",
              "    <tr>\n",
              "      <th>0</th>\n",
              "      <td>18.0</td>\n",
              "      <td>8</td>\n",
              "      <td>307</td>\n",
              "      <td>130</td>\n",
              "      <td>3504</td>\n",
              "      <td>12.0</td>\n",
              "      <td>70</td>\n",
              "      <td>1</td>\n",
              "      <td>chevrolet chevelle malibu</td>\n",
              "    </tr>\n",
              "    <tr>\n",
              "      <th>1</th>\n",
              "      <td>15.0</td>\n",
              "      <td>8</td>\n",
              "      <td>350</td>\n",
              "      <td>165</td>\n",
              "      <td>3693</td>\n",
              "      <td>11.5</td>\n",
              "      <td>70</td>\n",
              "      <td>1</td>\n",
              "      <td>buick skylark 320</td>\n",
              "    </tr>\n",
              "    <tr>\n",
              "      <th>2</th>\n",
              "      <td>18.0</td>\n",
              "      <td>8</td>\n",
              "      <td>318</td>\n",
              "      <td>150</td>\n",
              "      <td>3436</td>\n",
              "      <td>11.0</td>\n",
              "      <td>70</td>\n",
              "      <td>1</td>\n",
              "      <td>plymouth satellite</td>\n",
              "    </tr>\n",
              "    <tr>\n",
              "      <th>3</th>\n",
              "      <td>16.0</td>\n",
              "      <td>8</td>\n",
              "      <td>304</td>\n",
              "      <td>150</td>\n",
              "      <td>3433</td>\n",
              "      <td>12.0</td>\n",
              "      <td>70</td>\n",
              "      <td>1</td>\n",
              "      <td>amc rebel sst</td>\n",
              "    </tr>\n",
              "    <tr>\n",
              "      <th>4</th>\n",
              "      <td>17.0</td>\n",
              "      <td>8</td>\n",
              "      <td>302</td>\n",
              "      <td>140</td>\n",
              "      <td>3449</td>\n",
              "      <td>10.5</td>\n",
              "      <td>70</td>\n",
              "      <td>1</td>\n",
              "      <td>ford torino</td>\n",
              "    </tr>\n",
              "  </tbody>\n",
              "</table>\n",
              "</div>"
            ],
            "text/plain": [
              "    mpg  cylinders  displacement  ... model  origin                        car\n",
              "0  18.0          8           307  ...    70       1  chevrolet chevelle malibu\n",
              "1  15.0          8           350  ...    70       1          buick skylark 320\n",
              "2  18.0          8           318  ...    70       1         plymouth satellite\n",
              "3  16.0          8           304  ...    70       1              amc rebel sst\n",
              "4  17.0          8           302  ...    70       1                ford torino\n",
              "\n",
              "[5 rows x 9 columns]"
            ]
          },
          "metadata": {
            "tags": []
          },
          "execution_count": 3
        }
      ]
    },
    {
      "cell_type": "code",
      "metadata": {
        "id": "fi2u0UDA9EzI",
        "colab_type": "code",
        "colab": {
          "base_uri": "https://localhost:8080/",
          "height": 51
        },
        "outputId": "5a328e1d-3a5d-45b1-f4fd-7e28b1836472"
      },
      "source": [
        "print(cars1.shape)\n",
        "print(cars2.shape)"
      ],
      "execution_count": 4,
      "outputs": [
        {
          "output_type": "stream",
          "text": [
            "(198, 9)\n",
            "(200, 9)\n"
          ],
          "name": "stdout"
        }
      ]
    },
    {
      "cell_type": "code",
      "metadata": {
        "id": "GeVkJFVx9Iy_",
        "colab_type": "code",
        "colab": {
          "base_uri": "https://localhost:8080/",
          "height": 204
        },
        "outputId": "64f8cfcf-8e10-47e7-f3ed-4bb7b5339d65"
      },
      "source": [
        "## Join cars1 and cars2 into a single DataFrame called cars\n",
        "\n",
        "cars = cars1.append(cars2)\n",
        "cars.head()"
      ],
      "execution_count": 6,
      "outputs": [
        {
          "output_type": "execute_result",
          "data": {
            "text/html": [
              "<div>\n",
              "<style scoped>\n",
              "    .dataframe tbody tr th:only-of-type {\n",
              "        vertical-align: middle;\n",
              "    }\n",
              "\n",
              "    .dataframe tbody tr th {\n",
              "        vertical-align: top;\n",
              "    }\n",
              "\n",
              "    .dataframe thead th {\n",
              "        text-align: right;\n",
              "    }\n",
              "</style>\n",
              "<table border=\"1\" class=\"dataframe\">\n",
              "  <thead>\n",
              "    <tr style=\"text-align: right;\">\n",
              "      <th></th>\n",
              "      <th>mpg</th>\n",
              "      <th>cylinders</th>\n",
              "      <th>displacement</th>\n",
              "      <th>horsepower</th>\n",
              "      <th>weight</th>\n",
              "      <th>acceleration</th>\n",
              "      <th>model</th>\n",
              "      <th>origin</th>\n",
              "      <th>car</th>\n",
              "    </tr>\n",
              "  </thead>\n",
              "  <tbody>\n",
              "    <tr>\n",
              "      <th>0</th>\n",
              "      <td>18.0</td>\n",
              "      <td>8</td>\n",
              "      <td>307</td>\n",
              "      <td>130</td>\n",
              "      <td>3504</td>\n",
              "      <td>12.0</td>\n",
              "      <td>70</td>\n",
              "      <td>1</td>\n",
              "      <td>chevrolet chevelle malibu</td>\n",
              "    </tr>\n",
              "    <tr>\n",
              "      <th>1</th>\n",
              "      <td>15.0</td>\n",
              "      <td>8</td>\n",
              "      <td>350</td>\n",
              "      <td>165</td>\n",
              "      <td>3693</td>\n",
              "      <td>11.5</td>\n",
              "      <td>70</td>\n",
              "      <td>1</td>\n",
              "      <td>buick skylark 320</td>\n",
              "    </tr>\n",
              "    <tr>\n",
              "      <th>2</th>\n",
              "      <td>18.0</td>\n",
              "      <td>8</td>\n",
              "      <td>318</td>\n",
              "      <td>150</td>\n",
              "      <td>3436</td>\n",
              "      <td>11.0</td>\n",
              "      <td>70</td>\n",
              "      <td>1</td>\n",
              "      <td>plymouth satellite</td>\n",
              "    </tr>\n",
              "    <tr>\n",
              "      <th>3</th>\n",
              "      <td>16.0</td>\n",
              "      <td>8</td>\n",
              "      <td>304</td>\n",
              "      <td>150</td>\n",
              "      <td>3433</td>\n",
              "      <td>12.0</td>\n",
              "      <td>70</td>\n",
              "      <td>1</td>\n",
              "      <td>amc rebel sst</td>\n",
              "    </tr>\n",
              "    <tr>\n",
              "      <th>4</th>\n",
              "      <td>17.0</td>\n",
              "      <td>8</td>\n",
              "      <td>302</td>\n",
              "      <td>140</td>\n",
              "      <td>3449</td>\n",
              "      <td>10.5</td>\n",
              "      <td>70</td>\n",
              "      <td>1</td>\n",
              "      <td>ford torino</td>\n",
              "    </tr>\n",
              "  </tbody>\n",
              "</table>\n",
              "</div>"
            ],
            "text/plain": [
              "    mpg  cylinders  displacement  ... model  origin                        car\n",
              "0  18.0          8           307  ...    70       1  chevrolet chevelle malibu\n",
              "1  15.0          8           350  ...    70       1          buick skylark 320\n",
              "2  18.0          8           318  ...    70       1         plymouth satellite\n",
              "3  16.0          8           304  ...    70       1              amc rebel sst\n",
              "4  17.0          8           302  ...    70       1                ford torino\n",
              "\n",
              "[5 rows x 9 columns]"
            ]
          },
          "metadata": {
            "tags": []
          },
          "execution_count": 6
        }
      ]
    },
    {
      "cell_type": "code",
      "metadata": {
        "id": "Log_CJnu9P7O",
        "colab_type": "code",
        "colab": {
          "base_uri": "https://localhost:8080/",
          "height": 782
        },
        "outputId": "17242c63-254e-4886-e628-5434d77e21b2"
      },
      "source": [
        "nr_owners = np.random.randint(15000, high=73001, size=398, dtype='l')\n",
        "nr_owners\n"
      ],
      "execution_count": 7,
      "outputs": [
        {
          "output_type": "execute_result",
          "data": {
            "text/plain": [
              "array([62679, 42626, 31090, 21332, 48938, 30216, 69924, 40517, 46092,\n",
              "       62049, 63134, 28167, 21815, 44164, 58156, 33974, 52803, 65461,\n",
              "       67223, 25528, 36139, 31131, 71519, 37343, 61452, 47918, 40543,\n",
              "       60117, 59344, 69081, 23950, 54005, 70649, 57951, 59432, 49122,\n",
              "       54639, 47868, 17593, 62359, 69534, 41375, 33806, 30360, 48474,\n",
              "       55709, 58280, 41591, 51388, 54003, 34569, 25563, 71218, 72888,\n",
              "       30052, 22418, 39437, 39299, 32420, 46787, 34014, 36537, 44217,\n",
              "       58231, 36385, 16512, 53170, 19345, 28020, 34320, 69636, 59258,\n",
              "       42238, 46328, 54559, 15761, 36917, 39839, 50026, 51073, 58209,\n",
              "       30835, 18359, 60173, 64519, 69289, 40554, 15735, 53546, 45859,\n",
              "       44430, 51738, 39927, 61171, 71654, 50218, 47315, 50038, 39508,\n",
              "       65858, 55483, 35107, 36272, 65278, 40719, 22447, 62060, 43760,\n",
              "       41483, 61813, 61082, 42024, 41602, 66056, 32892, 52666, 50617,\n",
              "       28330, 36002, 68617, 51190, 37063, 65634, 61678, 26362, 48587,\n",
              "       70761, 22112, 71121, 60227, 30872, 43057, 50173, 58924, 60110,\n",
              "       37427, 67453, 56699, 42293, 63136, 24571, 72411, 24433, 30605,\n",
              "       60724, 52377, 41836, 66886, 47857, 16861, 31905, 61472, 31466,\n",
              "       26362, 35021, 26051, 45132, 70855, 30404, 52354, 21219, 22163,\n",
              "       54434, 69111, 15017, 52144, 31955, 25902, 62039, 55724, 60817,\n",
              "       49659, 28038, 40768, 23116, 32898, 50112, 47705, 45092, 70986,\n",
              "       58208, 61162, 38659, 71039, 27850, 43618, 45664, 47337, 18378,\n",
              "       32811, 26185, 15152, 44615, 63795, 72675, 71005, 70653, 24718,\n",
              "       16051, 62911, 68202, 18322, 34710, 66233, 26173, 35641, 23026,\n",
              "       42082, 67840, 36773, 34302, 60350, 50545, 17717, 18475, 40622,\n",
              "       28495, 29567, 18082, 37930, 57431, 17591, 44420, 65501, 42540,\n",
              "       31911, 69124, 46692, 45968, 70656, 28703, 43237, 66375, 57059,\n",
              "       46011, 59759, 15821, 72604, 15829, 59836, 54038, 66090, 54417,\n",
              "       51200, 71252, 58090, 69219, 32724, 32388, 43050, 15132, 43805,\n",
              "       49405, 71921, 56054, 36198, 38859, 67849, 17543, 68819, 33269,\n",
              "       62380, 30860, 20979, 39594, 52209, 19112, 62087, 33925, 45595,\n",
              "       67646, 53736, 40379, 66263, 23313, 31691, 31313, 17849, 21552,\n",
              "       55775, 47612, 47594, 58260, 18963, 17101, 45767, 57383, 65181,\n",
              "       39618, 64576, 17637, 36925, 64299, 47764, 62159, 29522, 57965,\n",
              "       40059, 43225, 27063, 38462, 23575, 26937, 42996, 37105, 43042,\n",
              "       67335, 49768, 62890, 53197, 24847, 37045, 45624, 16177, 69710,\n",
              "       45572, 35542, 32567, 53661, 72117, 35650, 69440, 61445, 18117,\n",
              "       15239, 55117, 67994, 66643, 28299, 43625, 50160, 32347, 17366,\n",
              "       71851, 66207, 23082, 45636, 51454, 31881, 54018, 21740, 19959,\n",
              "       36770, 18866, 72851, 22225, 45742, 28887, 35752, 64373, 64615,\n",
              "       19518, 43218, 57915, 36482, 58454, 21006, 66051, 58597, 25628,\n",
              "       60734, 58046, 39274, 56454, 52462, 32763, 16842, 57047, 63585,\n",
              "       20772, 32379, 25859, 61716, 23767, 38216, 68784, 44217, 25306,\n",
              "       68768, 28644, 41526, 72461, 42835, 28898, 26388, 40290, 23400,\n",
              "       25472, 71522, 54063, 52857, 63623, 37914, 53798, 43030, 65006,\n",
              "       55098, 31511])"
            ]
          },
          "metadata": {
            "tags": []
          },
          "execution_count": 7
        }
      ]
    },
    {
      "cell_type": "code",
      "metadata": {
        "id": "8K_vIaqJ9oI1",
        "colab_type": "code",
        "colab": {
          "base_uri": "https://localhost:8080/",
          "height": 204
        },
        "outputId": "279ab5ee-14c3-423d-978d-ac7a14d804d6"
      },
      "source": [
        "cars['owners']=nr_owners\n",
        "cars.head()"
      ],
      "execution_count": 8,
      "outputs": [
        {
          "output_type": "execute_result",
          "data": {
            "text/html": [
              "<div>\n",
              "<style scoped>\n",
              "    .dataframe tbody tr th:only-of-type {\n",
              "        vertical-align: middle;\n",
              "    }\n",
              "\n",
              "    .dataframe tbody tr th {\n",
              "        vertical-align: top;\n",
              "    }\n",
              "\n",
              "    .dataframe thead th {\n",
              "        text-align: right;\n",
              "    }\n",
              "</style>\n",
              "<table border=\"1\" class=\"dataframe\">\n",
              "  <thead>\n",
              "    <tr style=\"text-align: right;\">\n",
              "      <th></th>\n",
              "      <th>mpg</th>\n",
              "      <th>cylinders</th>\n",
              "      <th>displacement</th>\n",
              "      <th>horsepower</th>\n",
              "      <th>weight</th>\n",
              "      <th>acceleration</th>\n",
              "      <th>model</th>\n",
              "      <th>origin</th>\n",
              "      <th>car</th>\n",
              "      <th>owners</th>\n",
              "    </tr>\n",
              "  </thead>\n",
              "  <tbody>\n",
              "    <tr>\n",
              "      <th>0</th>\n",
              "      <td>18.0</td>\n",
              "      <td>8</td>\n",
              "      <td>307</td>\n",
              "      <td>130</td>\n",
              "      <td>3504</td>\n",
              "      <td>12.0</td>\n",
              "      <td>70</td>\n",
              "      <td>1</td>\n",
              "      <td>chevrolet chevelle malibu</td>\n",
              "      <td>62679</td>\n",
              "    </tr>\n",
              "    <tr>\n",
              "      <th>1</th>\n",
              "      <td>15.0</td>\n",
              "      <td>8</td>\n",
              "      <td>350</td>\n",
              "      <td>165</td>\n",
              "      <td>3693</td>\n",
              "      <td>11.5</td>\n",
              "      <td>70</td>\n",
              "      <td>1</td>\n",
              "      <td>buick skylark 320</td>\n",
              "      <td>42626</td>\n",
              "    </tr>\n",
              "    <tr>\n",
              "      <th>2</th>\n",
              "      <td>18.0</td>\n",
              "      <td>8</td>\n",
              "      <td>318</td>\n",
              "      <td>150</td>\n",
              "      <td>3436</td>\n",
              "      <td>11.0</td>\n",
              "      <td>70</td>\n",
              "      <td>1</td>\n",
              "      <td>plymouth satellite</td>\n",
              "      <td>31090</td>\n",
              "    </tr>\n",
              "    <tr>\n",
              "      <th>3</th>\n",
              "      <td>16.0</td>\n",
              "      <td>8</td>\n",
              "      <td>304</td>\n",
              "      <td>150</td>\n",
              "      <td>3433</td>\n",
              "      <td>12.0</td>\n",
              "      <td>70</td>\n",
              "      <td>1</td>\n",
              "      <td>amc rebel sst</td>\n",
              "      <td>21332</td>\n",
              "    </tr>\n",
              "    <tr>\n",
              "      <th>4</th>\n",
              "      <td>17.0</td>\n",
              "      <td>8</td>\n",
              "      <td>302</td>\n",
              "      <td>140</td>\n",
              "      <td>3449</td>\n",
              "      <td>10.5</td>\n",
              "      <td>70</td>\n",
              "      <td>1</td>\n",
              "      <td>ford torino</td>\n",
              "      <td>48938</td>\n",
              "    </tr>\n",
              "  </tbody>\n",
              "</table>\n",
              "</div>"
            ],
            "text/plain": [
              "    mpg  cylinders  displacement  ... origin                        car  owners\n",
              "0  18.0          8           307  ...      1  chevrolet chevelle malibu   62679\n",
              "1  15.0          8           350  ...      1          buick skylark 320   42626\n",
              "2  18.0          8           318  ...      1         plymouth satellite   31090\n",
              "3  16.0          8           304  ...      1              amc rebel sst   21332\n",
              "4  17.0          8           302  ...      1                ford torino   48938\n",
              "\n",
              "[5 rows x 10 columns]"
            ]
          },
          "metadata": {
            "tags": []
          },
          "execution_count": 8
        }
      ]
    },
    {
      "cell_type": "code",
      "metadata": {
        "id": "1dxZ2x-p9uxc",
        "colab_type": "code",
        "colab": {}
      },
      "source": [
        ""
      ],
      "execution_count": 0,
      "outputs": []
    }
  ]
}